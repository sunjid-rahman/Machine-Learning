{
  "nbformat": 4,
  "nbformat_minor": 0,
  "metadata": {
    "colab": {
      "name": "covid_19_data_test",
      "provenance": [],
      "collapsed_sections": [],
      "toc_visible": true
    },
    "kernelspec": {
      "name": "python3",
      "display_name": "Python 3"
    }
  },
  "cells": [
    {
      "cell_type": "code",
      "metadata": {
        "id": "u6cS5Y_YReQ6"
      },
      "source": [
        "import os\n",
        "import math\n",
        "import random\n",
        "import operator \n",
        "import warnings\n",
        "import numpy as np\n",
        "import pandas as pd\n",
        "import matplotlib.pyplot as plt\n",
        "import matplotlib.colors as mcolors\n",
        "import datetime as dt\n",
        "from datetime import timedelta\n",
        "import seaborn as sns\n",
        "from tqdm import tqdm\n",
        "import statistics as stat\n",
        "from  statsmodels.tsa.arima_model import ARIMA\n",
        "#import xgboost\n",
        "from sklearn.linear_model import LinearRegression, BayesianRidge\n",
        "from sklearn.model_selection import RandomizedSearchCV, train_test_split\n",
        "from sklearn.preprocessing import PolynomialFeatures\n",
        "from sklearn.tree import DecisionTreeRegressor\n",
        "from sklearn.svm import SVR\n",
        "from sklearn.metrics import mean_squared_error, mean_absolute_error\n",
        "from sklearn.linear_model import LogisticRegression\n",
        "from sklearn import metrics\n",
        "from sklearn.svm import NuSVR\n",
        "\n",
        "plt.style.use('fivethirtyeight')\n",
        "%matplotlib inline "
      ],
      "execution_count": null,
      "outputs": []
    },
    {
      "cell_type": "code",
      "metadata": {
        "id": "YGTqYK4ouGlX",
        "outputId": "7e3d6189-31cd-4d06-8f1d-68ac566d5696",
        "colab": {
          "base_uri": "https://localhost:8080/",
          "height": 54
        }
      },
      "source": [
        "from google.colab import drive\n",
        "drive.mount('/content/drive')"
      ],
      "execution_count": null,
      "outputs": [
        {
          "output_type": "stream",
          "text": [
            "Drive already mounted at /content/drive; to attempt to forcibly remount, call drive.mount(\"/content/drive\", force_remount=True).\n"
          ],
          "name": "stdout"
        }
      ]
    },
    {
      "cell_type": "code",
      "metadata": {
        "id": "r4dG59gHQQrq"
      },
      "source": [
        "# from google.colab import drive\n",
        "# drive.mount('/content/drive')"
      ],
      "execution_count": null,
      "outputs": []
    },
    {
      "cell_type": "code",
      "metadata": {
        "id": "1MlhHeTxVy3f"
      },
      "source": [
        "df_confirmed = pd.read_csv('https://raw.githubusercontent.com/CSSEGISandData/COVID-19/master/csse_covid_19_data/csse_covid_19_time_series/time_series_covid19_confirmed_global.csv')\n",
        "df_deaths = pd.read_csv('https://raw.githubusercontent.com/CSSEGISandData/COVID-19/master/csse_covid_19_data/csse_covid_19_time_series/time_series_covid19_deaths_global.csv')\n",
        "df_recovered = pd.read_csv('https://raw.githubusercontent.com/CSSEGISandData/COVID-19/master/csse_covid_19_data/csse_covid_19_time_series/time_series_covid19_recovered_global.csv')\n",
        "latest_data = pd.read_csv('https://raw.githubusercontent.com/CSSEGISandData/COVID-19/master/csse_covid_19_data/csse_covid_19_daily_reports/05-06-2020.csv')\n",
        "#us_medical_data = pd.read_csv('https://raw.githubusercontent.com/CSSEGISandData/COVID-19/master/csse_covid_19_data/csse_covid_19_daily_reports_us/05-06-2020.csv')"
      ],
      "execution_count": null,
      "outputs": []
    },
    {
      "cell_type": "code",
      "metadata": {
        "id": "ARsl0QktWMHg"
      },
      "source": [
        "df_bd_con =df_confirmed[df_confirmed['Country/Region']=='Bangladesh']\n",
        "df_bd_deaths=df_deaths[df_deaths['Country/Region']=='Bangladesh']\n",
        "df_bd_recovered=df_recovered[df_recovered['Country/Region']=='Bangladesh']"
      ],
      "execution_count": null,
      "outputs": []
    },
    {
      "cell_type": "code",
      "metadata": {
        "id": "eitDTRxWV65y"
      },
      "source": [
        "#world_data\n",
        "col_names = df_confirmed.keys()\n",
        "confirmed = df_confirmed.loc[:, col_names[4]:col_names[-1]]\n",
        "deaths = df_deaths.loc[:, col_names[4]:col_names[-1]]\n",
        "recoveries = df_recovered.loc[:, col_names[4]:col_names[-1]]"
      ],
      "execution_count": null,
      "outputs": []
    },
    {
      "cell_type": "code",
      "metadata": {
        "id": "D2NV5x0LXaMg"
      },
      "source": [
        "#Bangladesh Data\n",
        "col_names=df_bd_con.keys()\n",
        "bd_confirmed=df_bd_con.loc[:, col_names[50]:col_names[-1]]\n",
        "bd_deaths=df_bd_deaths.loc[:, col_names[50]:col_names[-1]]\n",
        "bd_recovered=df_bd_recovered.loc[:, col_names[50]:col_names[-1]]\n"
      ],
      "execution_count": null,
      "outputs": []
    },
    {
      "cell_type": "code",
      "metadata": {
        "id": "vS7Bnem-ruZW"
      },
      "source": [
        "#India Data\n",
        "df_ind_con =df_confirmed[df_confirmed['Country/Region']=='India']\n",
        "df_ind_deaths=df_deaths[df_deaths['Country/Region']=='India']\n",
        "df_ind_recovered=df_recovered[df_recovered['Country/Region']=='India']\n",
        "\n",
        "col_names=df_ind_con.keys()\n",
        "ind_confirmed=df_ind_con.loc[:, col_names[12]:col_names[-1]]\n",
        "ind_deaths=df_ind_deaths.loc[:, col_names[12]:col_names[-1]]\n",
        "ind_recovered=df_ind_recovered.loc[:, col_names[4]:col_names[-1]]"
      ],
      "execution_count": null,
      "outputs": []
    },
    {
      "cell_type": "code",
      "metadata": {
        "id": "24R3HtF71EOi"
      },
      "source": [
        "#Pakistan\n",
        "df_pak_con =df_confirmed[df_confirmed['Country/Region']=='Pakistan']\n",
        "df_pak_deaths=df_deaths[df_deaths['Country/Region']=='Pakistan']\n",
        "df_pak_recovered=df_recovered[df_recovered['Country/Region']=='Pakistan']\n",
        "\n",
        "col_names=df_pak_con.keys()\n",
        "pak_confirmed=df_pak_con.loc[:, col_names[38]:col_names[-1]]\n",
        "pak_deaths=df_pak_deaths.loc[:, col_names[38]:col_names[-1]]\n",
        "pak_recovered=df_pak_recovered.loc[:, col_names[38]:col_names[-1]]"
      ],
      "execution_count": null,
      "outputs": []
    },
    {
      "cell_type": "code",
      "metadata": {
        "id": "LYPCArxn50T4"
      },
      "source": [
        "#Sri Lanka\n",
        "df_sri_con =df_confirmed[df_confirmed['Country/Region']=='Sri Lanka']\n",
        "df_sri_deaths=df_deaths[df_deaths['Country/Region']=='Sri Lanka']\n",
        "df_sri_recovered=df_recovered[df_recovered['Country/Region']=='Sri Lanka']\n",
        "\n",
        "col_names=df_sri_con.keys()\n",
        "sri_confirmed=df_sri_con.loc[:, col_names[9]:col_names[-1]]\n",
        "sri_deaths=df_sri_deaths.loc[:, col_names[9]:col_names[-1]]\n",
        "sri_recovered=df_sri_recovered.loc[:, col_names[9]:col_names[-1]]"
      ],
      "execution_count": null,
      "outputs": []
    },
    {
      "cell_type": "code",
      "metadata": {
        "id": "MGfosuuW7pkX"
      },
      "source": [
        "#Nepal\n",
        "df_nep_con =df_confirmed[df_confirmed['Country/Region']=='Nepal']\n",
        "df_nep_deaths=df_deaths[df_deaths['Country/Region']=='Nepal']\n",
        "df_nep_recovered=df_recovered[df_recovered['Country/Region']=='Nepal']\n",
        "\n",
        "col_names=df_nep_con.keys()\n",
        "nep_confirmed=df_nep_con.loc[:, col_names[7]:col_names[-1]]\n",
        "nep_deaths=df_nep_deaths.loc[:, col_names[7]:col_names[-1]]\n",
        "nep_recovered=df_nep_recovered.loc[:, col_names[7]:col_names[-1]]"
      ],
      "execution_count": null,
      "outputs": []
    },
    {
      "cell_type": "code",
      "metadata": {
        "id": "uRvCcmp2-bjB"
      },
      "source": [
        "#Afghanistan\n",
        "df_afg_con =df_confirmed[df_confirmed['Country/Region']=='Afghanistan']\n",
        "df_afg_deaths=df_deaths[df_deaths['Country/Region']=='Afghanistan']\n",
        "df_afg_recovered=df_recovered[df_recovered['Country/Region']=='Afghanistan']\n",
        "\n",
        "col_names=df_afg_con.keys()\n",
        "afg_confirmed=df_afg_con.loc[:, col_names[37]:col_names[-1]]\n",
        "afg_deaths=df_afg_deaths.loc[:, col_names[37]:col_names[-1]]\n",
        "afg_recovered=df_afg_recovered.loc[:, col_names[37]:col_names[-1]]"
      ],
      "execution_count": null,
      "outputs": []
    },
    {
      "cell_type": "code",
      "metadata": {
        "id": "a4bbxvMFABQz"
      },
      "source": [
        "#Maldives\n",
        "df_mal_con =df_confirmed[df_confirmed['Country/Region']=='Maldives']\n",
        "df_mal_deaths=df_deaths[df_deaths['Country/Region']=='Maldives']\n",
        "df_mal_recovered=df_recovered[df_recovered['Country/Region']=='Maldives']\n",
        "\n",
        "col_names=df_mal_con.keys()\n",
        "mal_confirmed=df_mal_con.loc[:, col_names[50]:col_names[-1]]\n",
        "mal_deaths=df_mal_deaths.loc[:, col_names[50]:col_names[-1]]\n",
        "mal_recovered=df_mal_recovered.loc[:, col_names[50]:col_names[-1]]"
      ],
      "execution_count": null,
      "outputs": []
    },
    {
      "cell_type": "code",
      "metadata": {
        "id": "mvnAjMZhBcco"
      },
      "source": [
        "#Bhutan\n",
        "df_bhu_con =df_confirmed[df_confirmed['Country/Region']=='Bhutan']\n",
        "df_bhu_deaths=df_deaths[df_deaths['Country/Region']=='Bhutan']\n",
        "df_bhu_recovered=df_recovered[df_recovered['Country/Region']=='Bhutan']\n",
        "\n",
        "col_names=df_bhu_con.keys()\n",
        "bhu_confirmed=df_bhu_con.loc[:, col_names[48]:col_names[-1]]\n",
        "bhu_deaths=df_bhu_deaths.loc[:, col_names[48]:col_names[-1]]\n",
        "bhu_recovered=df_bhu_recovered.loc[:, col_names[48]:col_names[-1]]"
      ],
      "execution_count": null,
      "outputs": []
    },
    {
      "cell_type": "code",
      "metadata": {
        "id": "reI2ZW21uC5V",
        "outputId": "2d0065dc-d502-4c2c-a356-6d8f1e38b00e",
        "colab": {
          "base_uri": "https://localhost:8080/",
          "height": 126
        }
      },
      "source": [
        "bd_deaths.head()"
      ],
      "execution_count": null,
      "outputs": [
        {
          "output_type": "execute_result",
          "data": {
            "text/html": [
              "<div>\n",
              "<style scoped>\n",
              "    .dataframe tbody tr th:only-of-type {\n",
              "        vertical-align: middle;\n",
              "    }\n",
              "\n",
              "    .dataframe tbody tr th {\n",
              "        vertical-align: top;\n",
              "    }\n",
              "\n",
              "    .dataframe thead th {\n",
              "        text-align: right;\n",
              "    }\n",
              "</style>\n",
              "<table border=\"1\" class=\"dataframe\">\n",
              "  <thead>\n",
              "    <tr style=\"text-align: right;\">\n",
              "      <th></th>\n",
              "      <th>3/8/20</th>\n",
              "      <th>3/9/20</th>\n",
              "      <th>3/10/20</th>\n",
              "      <th>3/11/20</th>\n",
              "      <th>3/12/20</th>\n",
              "      <th>3/13/20</th>\n",
              "      <th>3/14/20</th>\n",
              "      <th>3/15/20</th>\n",
              "      <th>3/16/20</th>\n",
              "      <th>3/17/20</th>\n",
              "      <th>3/18/20</th>\n",
              "      <th>3/19/20</th>\n",
              "      <th>3/20/20</th>\n",
              "      <th>3/21/20</th>\n",
              "      <th>3/22/20</th>\n",
              "      <th>3/23/20</th>\n",
              "      <th>3/24/20</th>\n",
              "      <th>3/25/20</th>\n",
              "      <th>3/26/20</th>\n",
              "      <th>3/27/20</th>\n",
              "      <th>3/28/20</th>\n",
              "      <th>3/29/20</th>\n",
              "      <th>3/30/20</th>\n",
              "      <th>3/31/20</th>\n",
              "      <th>4/1/20</th>\n",
              "      <th>4/2/20</th>\n",
              "      <th>4/3/20</th>\n",
              "      <th>4/4/20</th>\n",
              "      <th>4/5/20</th>\n",
              "      <th>4/6/20</th>\n",
              "      <th>4/7/20</th>\n",
              "      <th>4/8/20</th>\n",
              "      <th>4/9/20</th>\n",
              "      <th>4/10/20</th>\n",
              "      <th>4/11/20</th>\n",
              "      <th>4/12/20</th>\n",
              "      <th>4/13/20</th>\n",
              "      <th>4/14/20</th>\n",
              "      <th>4/15/20</th>\n",
              "      <th>4/16/20</th>\n",
              "      <th>...</th>\n",
              "      <th>6/19/20</th>\n",
              "      <th>6/20/20</th>\n",
              "      <th>6/21/20</th>\n",
              "      <th>6/22/20</th>\n",
              "      <th>6/23/20</th>\n",
              "      <th>6/24/20</th>\n",
              "      <th>6/25/20</th>\n",
              "      <th>6/26/20</th>\n",
              "      <th>6/27/20</th>\n",
              "      <th>6/28/20</th>\n",
              "      <th>6/29/20</th>\n",
              "      <th>6/30/20</th>\n",
              "      <th>7/1/20</th>\n",
              "      <th>7/2/20</th>\n",
              "      <th>7/3/20</th>\n",
              "      <th>7/4/20</th>\n",
              "      <th>7/5/20</th>\n",
              "      <th>7/6/20</th>\n",
              "      <th>7/7/20</th>\n",
              "      <th>7/8/20</th>\n",
              "      <th>7/9/20</th>\n",
              "      <th>7/10/20</th>\n",
              "      <th>7/11/20</th>\n",
              "      <th>7/12/20</th>\n",
              "      <th>7/13/20</th>\n",
              "      <th>7/14/20</th>\n",
              "      <th>7/15/20</th>\n",
              "      <th>7/16/20</th>\n",
              "      <th>7/17/20</th>\n",
              "      <th>7/18/20</th>\n",
              "      <th>7/19/20</th>\n",
              "      <th>7/20/20</th>\n",
              "      <th>7/21/20</th>\n",
              "      <th>7/22/20</th>\n",
              "      <th>7/23/20</th>\n",
              "      <th>7/24/20</th>\n",
              "      <th>7/25/20</th>\n",
              "      <th>7/26/20</th>\n",
              "      <th>7/27/20</th>\n",
              "      <th>7/28/20</th>\n",
              "    </tr>\n",
              "  </thead>\n",
              "  <tbody>\n",
              "    <tr>\n",
              "      <th>20</th>\n",
              "      <td>0</td>\n",
              "      <td>0</td>\n",
              "      <td>0</td>\n",
              "      <td>0</td>\n",
              "      <td>0</td>\n",
              "      <td>0</td>\n",
              "      <td>0</td>\n",
              "      <td>0</td>\n",
              "      <td>0</td>\n",
              "      <td>0</td>\n",
              "      <td>1</td>\n",
              "      <td>1</td>\n",
              "      <td>1</td>\n",
              "      <td>2</td>\n",
              "      <td>2</td>\n",
              "      <td>3</td>\n",
              "      <td>4</td>\n",
              "      <td>5</td>\n",
              "      <td>5</td>\n",
              "      <td>5</td>\n",
              "      <td>5</td>\n",
              "      <td>5</td>\n",
              "      <td>5</td>\n",
              "      <td>5</td>\n",
              "      <td>6</td>\n",
              "      <td>6</td>\n",
              "      <td>6</td>\n",
              "      <td>8</td>\n",
              "      <td>9</td>\n",
              "      <td>12</td>\n",
              "      <td>17</td>\n",
              "      <td>20</td>\n",
              "      <td>21</td>\n",
              "      <td>27</td>\n",
              "      <td>30</td>\n",
              "      <td>34</td>\n",
              "      <td>39</td>\n",
              "      <td>46</td>\n",
              "      <td>50</td>\n",
              "      <td>60</td>\n",
              "      <td>...</td>\n",
              "      <td>1388</td>\n",
              "      <td>1425</td>\n",
              "      <td>1464</td>\n",
              "      <td>1502</td>\n",
              "      <td>1545</td>\n",
              "      <td>1582</td>\n",
              "      <td>1621</td>\n",
              "      <td>1661</td>\n",
              "      <td>1695</td>\n",
              "      <td>1738</td>\n",
              "      <td>1783</td>\n",
              "      <td>1847</td>\n",
              "      <td>1888</td>\n",
              "      <td>1926</td>\n",
              "      <td>1968</td>\n",
              "      <td>1997</td>\n",
              "      <td>2052</td>\n",
              "      <td>2096</td>\n",
              "      <td>2151</td>\n",
              "      <td>2197</td>\n",
              "      <td>2238</td>\n",
              "      <td>2275</td>\n",
              "      <td>2305</td>\n",
              "      <td>2352</td>\n",
              "      <td>2391</td>\n",
              "      <td>2424</td>\n",
              "      <td>2457</td>\n",
              "      <td>2496</td>\n",
              "      <td>2547</td>\n",
              "      <td>2581</td>\n",
              "      <td>2618</td>\n",
              "      <td>2668</td>\n",
              "      <td>2709</td>\n",
              "      <td>2751</td>\n",
              "      <td>2801</td>\n",
              "      <td>2836</td>\n",
              "      <td>2874</td>\n",
              "      <td>2928</td>\n",
              "      <td>2965</td>\n",
              "      <td>3000</td>\n",
              "    </tr>\n",
              "  </tbody>\n",
              "</table>\n",
              "<p>1 rows × 143 columns</p>\n",
              "</div>"
            ],
            "text/plain": [
              "    3/8/20  3/9/20  3/10/20  3/11/20  ...  7/25/20  7/26/20  7/27/20  7/28/20\n",
              "20       0       0        0        0  ...     2874     2928     2965     3000\n",
              "\n",
              "[1 rows x 143 columns]"
            ]
          },
          "metadata": {
            "tags": []
          },
          "execution_count": 297
        }
      ]
    },
    {
      "cell_type": "code",
      "metadata": {
        "id": "18RqXodlvsZ5"
      },
      "source": [
        "def day_wise_simu(dates,confirmed,deaths,recovered):\n",
        "  dates = confirmed.keys()\n",
        "  total_cases=[]\n",
        "  total_deaths=[]\n",
        "  recovery_rates = []\n",
        "  mortality_rates=[]\n",
        "  total_recovered = []\n",
        "  total_active = []\n",
        "  for i in tqdm(dates):\n",
        "    confirmed_sum = confirmed[i].sum() # daily wise sumation\n",
        "    death_sum = deaths[i].sum()\n",
        "    recovered_sum = recovered[i].sum()\n",
        "    total_cases.append(confirmed_sum)\n",
        "    total_deaths.append(death_sum)\n",
        "    total_recovered.append(recovered_sum)\n",
        "    total_active.append(confirmed_sum - death_sum - recovered_sum)\n",
        "    mortality_rates.append(death_sum / confirmed_sum) # mortality = summatin of death / summation of confirmed cases\n",
        "    recovery_rates.append(recovered_sum / confirmed_sum)\n",
        "  return total_cases,total_deaths,total_recovered"
      ],
      "execution_count": null,
      "outputs": []
    },
    {
      "cell_type": "code",
      "metadata": {
        "id": "qJbsbt6Axr-B",
        "outputId": "80821dde-9a9a-499c-8114-67e598b9d9c7",
        "colab": {
          "base_uri": "https://localhost:8080/",
          "height": 34
        }
      },
      "source": [
        "#Bangladesh\n",
        "bd_total_cases,bd_total_deaths,bd_total_recovered=day_wise_simu(bd_confirmed.keys(),bd_confirmed,bd_deaths,bd_recovered)"
      ],
      "execution_count": null,
      "outputs": [
        {
          "output_type": "stream",
          "text": [
            "100%|██████████| 143/143 [00:00<00:00, 2741.84it/s]\n"
          ],
          "name": "stderr"
        }
      ]
    },
    {
      "cell_type": "code",
      "metadata": {
        "id": "BLE-d0aWzIJv",
        "outputId": "d83533bb-ac39-43e4-815b-365bde73215c",
        "colab": {
          "base_uri": "https://localhost:8080/",
          "height": 34
        }
      },
      "source": [
        "#India\n",
        "ind_total_cases,ind_total_deaths,ind_total_recovered=day_wise_simu(ind_confirmed.keys(),ind_confirmed,ind_deaths,ind_recovered)"
      ],
      "execution_count": null,
      "outputs": [
        {
          "output_type": "stream",
          "text": [
            "100%|██████████| 181/181 [00:00<00:00, 2806.75it/s]\n"
          ],
          "name": "stderr"
        }
      ]
    },
    {
      "cell_type": "code",
      "metadata": {
        "id": "RYX7boNI2i4B",
        "outputId": "d2d5e994-be4b-43b6-b301-84ad744e5625",
        "colab": {
          "base_uri": "https://localhost:8080/",
          "height": 34
        }
      },
      "source": [
        "#Pakistan\n",
        "pak_total_cases,pak_total_deaths,pak_total_recovered=day_wise_simu(pak_confirmed.keys(),pak_confirmed,pak_deaths,pak_recovered)"
      ],
      "execution_count": null,
      "outputs": [
        {
          "output_type": "stream",
          "text": [
            "100%|██████████| 155/155 [00:00<00:00, 2677.81it/s]\n"
          ],
          "name": "stderr"
        }
      ]
    },
    {
      "cell_type": "code",
      "metadata": {
        "id": "BUccxZIx69T9",
        "outputId": "abe375d1-598c-4eb9-a9f4-559ac8c8af7c",
        "colab": {
          "base_uri": "https://localhost:8080/",
          "height": 34
        }
      },
      "source": [
        "#Sri Lanka\n",
        "sri_total_cases,sri_total_deaths,sri_total_recovered=day_wise_simu(sri_confirmed.keys(),sri_confirmed,sri_deaths,sri_recovered)"
      ],
      "execution_count": null,
      "outputs": [
        {
          "output_type": "stream",
          "text": [
            "100%|██████████| 184/184 [00:00<00:00, 2826.96it/s]\n"
          ],
          "name": "stderr"
        }
      ]
    },
    {
      "cell_type": "code",
      "metadata": {
        "id": "Bwrzl5T4826v",
        "outputId": "3144d7ba-c95f-44d1-9a4f-1d7110567c96",
        "colab": {
          "base_uri": "https://localhost:8080/",
          "height": 34
        }
      },
      "source": [
        "#Nepal\n",
        "nep_total_cases,nep_total_deaths,nep_total_recovered=day_wise_simu(nep_confirmed.keys(),nep_confirmed,nep_deaths,nep_recovered)"
      ],
      "execution_count": null,
      "outputs": [
        {
          "output_type": "stream",
          "text": [
            "100%|██████████| 186/186 [00:00<00:00, 2820.53it/s]\n"
          ],
          "name": "stderr"
        }
      ]
    },
    {
      "cell_type": "code",
      "metadata": {
        "id": "-5Lm0rc3_THY",
        "outputId": "45fd5881-027d-465f-c013-916f9a3f5a83",
        "colab": {
          "base_uri": "https://localhost:8080/",
          "height": 34
        }
      },
      "source": [
        "#Afghanistan\n",
        "afg_total_cases,afg_total_deaths,afg_total_recovered=day_wise_simu(afg_confirmed.keys(),afg_confirmed,afg_deaths,afg_recovered)"
      ],
      "execution_count": null,
      "outputs": [
        {
          "output_type": "stream",
          "text": [
            "100%|██████████| 156/156 [00:00<00:00, 2699.33it/s]\n"
          ],
          "name": "stderr"
        }
      ]
    },
    {
      "cell_type": "code",
      "metadata": {
        "id": "QOhKnzxBAvZ_",
        "outputId": "bf690cdd-67bc-47d4-ee71-b05926e932c1",
        "colab": {
          "base_uri": "https://localhost:8080/",
          "height": 34
        }
      },
      "source": [
        "#Maldives\n",
        "mal_total_cases,mal_total_deaths,mal_total_recovered=day_wise_simu(mal_confirmed.keys(),mal_confirmed,mal_deaths,mal_recovered)"
      ],
      "execution_count": null,
      "outputs": [
        {
          "output_type": "stream",
          "text": [
            "100%|██████████| 143/143 [00:00<00:00, 2051.72it/s]\n"
          ],
          "name": "stderr"
        }
      ]
    },
    {
      "cell_type": "code",
      "metadata": {
        "id": "pkAqUvU7CY9-",
        "outputId": "8204aac5-a5b0-4582-fc16-bbbbcb8f415e",
        "colab": {
          "base_uri": "https://localhost:8080/",
          "height": 34
        }
      },
      "source": [
        "#Bhutan\n",
        "bhu_total_cases,bhu_total_deaths,bhu_total_recovered=day_wise_simu(bhu_confirmed.keys(),bhu_confirmed,bhu_deaths,bhu_recovered)"
      ],
      "execution_count": null,
      "outputs": [
        {
          "output_type": "stream",
          "text": [
            "100%|██████████| 145/145 [00:00<00:00, 2250.25it/s]\n"
          ],
          "name": "stderr"
        }
      ]
    },
    {
      "cell_type": "code",
      "metadata": {
        "id": "jiGd8Otjci9F"
      },
      "source": [
        "\n",
        "# dates = bd_confirmed.keys()\n",
        "# bd_cases=[]\n",
        "# total_deaths=[]\n",
        "# recovery_rates = []\n",
        "# mortality_rates=[]\n",
        "# total_recovered = []\n",
        "# total_active = []"
      ],
      "execution_count": null,
      "outputs": []
    },
    {
      "cell_type": "code",
      "metadata": {
        "id": "mKbIo95xcezv"
      },
      "source": [
        ""
      ],
      "execution_count": null,
      "outputs": []
    },
    {
      "cell_type": "code",
      "metadata": {
        "id": "8l6yhW0xjLlb"
      },
      "source": [
        "# for i in tqdm(dates):\n",
        "#     confirmed_sum = bd_confirmed[i].sum() # daily wise sumation\n",
        "#     death_sum = bd_deaths[i].sum()\n",
        "#     recovered_sum = bd_recovered[i].sum()\n",
        "#     bd_cases.append(confirmed_sum)\n",
        "#     total_deaths.append(death_sum)\n",
        "#     total_recovered.append(recovered_sum)\n",
        "#     total_active.append(confirmed_sum - death_sum - recovered_sum)\n",
        "#     mortality_rates.append(death_sum / confirmed_sum) # mortality = summatin of death / summation of confirmed cases\n",
        "#     recovery_rates.append(recovered_sum / confirmed_sum)"
      ],
      "execution_count": null,
      "outputs": []
    },
    {
      "cell_type": "code",
      "metadata": {
        "id": "r8dTL9Nek7x4"
      },
      "source": [
        "# def daily_increase(data):\n",
        "#     d = [] \n",
        "#     for i in range(len(data)):\n",
        "#         if i == 0:\n",
        "#             d.append(data[0])\n",
        "#         else:\n",
        "#             d.append(data[i]-data[i-1])\n",
        "#     return d "
      ],
      "execution_count": null,
      "outputs": []
    },
    {
      "cell_type": "code",
      "metadata": {
        "id": "2mHihVDkk-SR"
      },
      "source": [
        "#confirmed_case\n",
        "# bd_daily_con_increase=daily_increase(bd_cases)\n",
        "# #death_case\n",
        "# bd_daily_death_increase=daily_increase(total_deaths)\n",
        "# #Recovery Case\n",
        "# bd_daily_rec_increase=daily_increase(total_recovered)"
      ],
      "execution_count": null,
      "outputs": []
    },
    {
      "cell_type": "code",
      "metadata": {
        "id": "XhJhlPlQl25C"
      },
      "source": [
        "#Bangladesh\n",
        "days_since_3_8 = np.array([i for i in range(len(bd_confirmed.keys()))]).reshape(-1,1)\n",
        "# bd_total_cases = np.array(bd_total_cases).reshape(-1,1)\n",
        "# bd_total_cases[120]\n",
        "#bd_total_deaths[100]"
      ],
      "execution_count": null,
      "outputs": []
    },
    {
      "cell_type": "code",
      "metadata": {
        "id": "9afKExR7zpN9",
        "outputId": "fc02d9a2-70a6-49f0-9542-df2823633b47",
        "colab": {
          "base_uri": "https://localhost:8080/",
          "height": 34
        }
      },
      "source": [
        "#India\n",
        "days_since_1_30 = np.array([i for i in range(len(ind_confirmed.keys()))]).reshape(-1,1)\n",
        "ind_total_cases = np.array(ind_total_cases).reshape(-1,1)\n",
        "ind_total_cases.shape"
      ],
      "execution_count": null,
      "outputs": [
        {
          "output_type": "execute_result",
          "data": {
            "text/plain": [
              "(181, 1)"
            ]
          },
          "metadata": {
            "tags": []
          },
          "execution_count": 313
        }
      ]
    },
    {
      "cell_type": "code",
      "metadata": {
        "id": "uh_LNS2V0zp2",
        "outputId": "9b95b939-b089-492b-83ce-9b1123b32397",
        "colab": {
          "base_uri": "https://localhost:8080/",
          "height": 34
        }
      },
      "source": [
        "#Pakistan\n",
        "days_since_2_25 = np.array([i for i in range(len(pak_confirmed.keys()))]).reshape(-1,1)\n",
        "pak_total_cases = np.array(pak_total_cases).reshape(-1,1)\n",
        "pak_total_cases.shape"
      ],
      "execution_count": null,
      "outputs": [
        {
          "output_type": "execute_result",
          "data": {
            "text/plain": [
              "(155, 1)"
            ]
          },
          "metadata": {
            "tags": []
          },
          "execution_count": 314
        }
      ]
    },
    {
      "cell_type": "code",
      "metadata": {
        "id": "VF7tmBeo41ae",
        "outputId": "24e29c7c-17fd-4353-d925-134930a7e3b3",
        "colab": {
          "base_uri": "https://localhost:8080/",
          "height": 34
        }
      },
      "source": [
        "#Sri Lanka\n",
        "days_since_1_27 = np.array([i for i in range(len(sri_confirmed.keys()))]).reshape(-1,1)\n",
        "sri_total_cases = np.array(sri_total_cases).reshape(-1,1)\n",
        "sri_total_cases.shape"
      ],
      "execution_count": null,
      "outputs": [
        {
          "output_type": "execute_result",
          "data": {
            "text/plain": [
              "(184, 1)"
            ]
          },
          "metadata": {
            "tags": []
          },
          "execution_count": 315
        }
      ]
    },
    {
      "cell_type": "code",
      "metadata": {
        "id": "RWvTp_hr9sQZ",
        "outputId": "0c9be15a-cf6c-4870-bf42-c4d0558a34c7",
        "colab": {
          "base_uri": "https://localhost:8080/",
          "height": 34
        }
      },
      "source": [
        "#Nepal\n",
        "days_since_1_25 = np.array([i for i in range(len(nep_confirmed.keys()))]).reshape(-1,1)\n",
        "nep_total_cases = np.array(nep_total_cases).reshape(-1,1)\n",
        "nep_total_cases.shape"
      ],
      "execution_count": null,
      "outputs": [
        {
          "output_type": "execute_result",
          "data": {
            "text/plain": [
              "(186, 1)"
            ]
          },
          "metadata": {
            "tags": []
          },
          "execution_count": 316
        }
      ]
    },
    {
      "cell_type": "code",
      "metadata": {
        "id": "1D0scnHt_qlY",
        "outputId": "030778c6-2aa3-4fd0-80f8-3f8fd300e569",
        "colab": {
          "base_uri": "https://localhost:8080/",
          "height": 34
        }
      },
      "source": [
        "#Afghanistan\n",
        "days_since_2_24 = np.array([i for i in range(len(afg_confirmed.keys()))]).reshape(-1,1)\n",
        "afg_total_cases = np.array(afg_total_cases).reshape(-1,1)\n",
        "afg_total_cases.shape"
      ],
      "execution_count": null,
      "outputs": [
        {
          "output_type": "execute_result",
          "data": {
            "text/plain": [
              "(156, 1)"
            ]
          },
          "metadata": {
            "tags": []
          },
          "execution_count": 317
        }
      ]
    },
    {
      "cell_type": "code",
      "metadata": {
        "id": "HCXylUvPBJ8u",
        "outputId": "ea76b14a-93b1-49d0-86ef-642f302a182b",
        "colab": {
          "base_uri": "https://localhost:8080/",
          "height": 34
        }
      },
      "source": [
        "#Maldives\n",
        "days_since_3_8 = np.array([i for i in range(len(mal_confirmed.keys()))]).reshape(-1,1)\n",
        "mal_total_cases = np.array(mal_total_cases).reshape(-1,1)\n",
        "mal_total_cases.shape"
      ],
      "execution_count": null,
      "outputs": [
        {
          "output_type": "execute_result",
          "data": {
            "text/plain": [
              "(143, 1)"
            ]
          },
          "metadata": {
            "tags": []
          },
          "execution_count": 318
        }
      ]
    },
    {
      "cell_type": "code",
      "metadata": {
        "id": "Fc-M_xmNBVCl",
        "outputId": "830f2741-e870-4580-aa32-c712ad1501f5",
        "colab": {
          "base_uri": "https://localhost:8080/",
          "height": 34
        }
      },
      "source": [
        "days_since_3_6 = np.array([i for i in range(len(bhu_confirmed.keys()))]).reshape(-1,1)\n",
        "bhu_total_cases = np.array(bhu_total_cases).reshape(-1,1)\n",
        "bhu_total_cases.shape"
      ],
      "execution_count": null,
      "outputs": [
        {
          "output_type": "execute_result",
          "data": {
            "text/plain": [
              "(145, 1)"
            ]
          },
          "metadata": {
            "tags": []
          },
          "execution_count": 319
        }
      ]
    },
    {
      "cell_type": "code",
      "metadata": {
        "id": "9RId1Y2FDLuV",
        "outputId": "c5034b46-dd41-4a67-960d-2f09e143db13",
        "colab": {
          "base_uri": "https://localhost:8080/",
          "height": 462
        }
      },
      "source": [
        "fig=plt.figure(figsize=(10,8))\n",
        "plt.plot(bd_total_cases[:100],color='red',linestyle='dotted',lw=3)\n",
        "plt.plot(ind_total_cases[:100],color='green',linestyle='dotted',lw=3)\n",
        "plt.plot(pak_total_cases[:100],color='royalblue',linestyle='dotted',lw=3)\n",
        "plt.plot(sri_total_cases[:100],color='maroon',linestyle='dotted',lw=3)\n",
        "plt.plot(nep_total_cases[:100],color='mediumspringgreen',linestyle='dotted',lw=3)\n",
        "plt.plot(bhu_total_cases[:100],color='blue',linestyle='dotted',lw=3)\n",
        "plt.plot(afg_total_cases[:100],color='tomato',linestyle='dotted',lw=3)\n",
        "plt.plot(mal_total_cases[:100],color='purple',linestyle='dotted',lw=3)\n",
        "plt.ylabel('Number of Confirmed Cases')\n",
        "plt.xlabel('Number of days')\n",
        "plt.legend([\"Bangladesh Confirmed Cases\",\"India Confirmed Cases\",\"Pakistan Confirmed Cases\",\"Sri Lanka Confirmed Cases\",\"Nepal Confirmed Cases\",\"Bhutan Confirmed Cases\",\"Afghanistan Confirmed Cases\",\"Maldives Confirmed Cases\"])\n",
        "fig.savefig('SAARC_Con_fig.png')"
      ],
      "execution_count": null,
      "outputs": [
        {
          "output_type": "display_data",
          "data": {
            "image/png": "[encoded data removed]",
            "text/plain": [
              "<Figure size 720x576 with 1 Axes>"
            ]
          },
          "metadata": {
            "tags": [],
            "needs_background": "light"
          }
        }
      ]
    },
    {
      "cell_type": "code",
      "metadata": {
        "id": "ar3IA2DqFkV-",
        "outputId": "c4ef25ec-34ba-45b3-ecf6-6a7bf693dd90",
        "colab": {
          "base_uri": "https://localhost:8080/",
          "height": 465
        }
      },
      "source": [
        "fig=plt.figure(figsize=(10,8))\n",
        "plt.plot(bd_total_deaths[:100],color='red',linestyle='dotted',lw=3)\n",
        "plt.plot(ind_total_deaths[:100],color='green',linestyle='dotted',lw=3)\n",
        "plt.plot(pak_total_deaths[:100],color='royalblue',linestyle='dotted',lw=3)\n",
        "plt.plot(sri_total_deaths[:100],color='maroon',linestyle='dotted',lw=3)\n",
        "plt.plot(nep_total_deaths[:100],color='mediumspringgreen',linestyle='dotted',lw=3)\n",
        "plt.plot(bhu_total_deaths[:100],color='blue',linestyle='dotted',lw=3)\n",
        "plt.plot(afg_total_deaths[:100],color='tomato',linestyle='dotted',lw=3)\n",
        "plt.plot(mal_total_deaths[:100],color='purple',linestyle='dotted',lw=3)\n",
        "plt.ylabel('Number of Death Cases')\n",
        "plt.xlabel('Number of days')\n",
        "plt.legend([\"Bangladesh Death Cases\",\"India Death Cases\",\"Pakistan Death Cases\",\"Sri Lanka Death Cases\",\"Nepal Death Cases\",\"Bhutan Death Cases\",\"Afghanistan Death Cases\",\"Maldives Death Cases\"])\n",
        "fig.savefig('SAARC_Death_fig.png')"
      ],
      "execution_count": null,
      "outputs": [
        {
          "output_type": "display_data",
          "data": {
            "image/png": "[encoded data removed]",
            "text/plain": [
              "<Figure size 720x576 with 1 Axes>"
            ]
          },
          "metadata": {
            "tags": [],
            "needs_background": "light"
          }
        }
      ]
    },
    {
      "cell_type": "code",
      "metadata": {
        "id": "39QkPjXomM9s",
        "outputId": "cdec6eb1-7cf8-40b8-8a35-b15e7d6cbb0d",
        "colab": {
          "base_uri": "https://localhost:8080/",
          "height": 34
        }
      },
      "source": [
        "dates=bd_confirmed.keys()\n",
        "dates = dates[:135].copy()\n",
        "print(dates.shape)\n",
        "days_in_future = 30 # only 30 days forcasting\n",
        "future_forcast = np.array([i for i in range(len(dates)+days_in_future)]).reshape(-1, 1)\n",
        "adjusted_dates = future_forcast[:-30]"
      ],
      "execution_count": null,
      "outputs": [
        {
          "output_type": "stream",
          "text": [
            "(135,)\n"
          ],
          "name": "stdout"
        }
      ]
    },
    {
      "cell_type": "code",
      "metadata": {
        "id": "6GTtkml3rvgq",
        "outputId": "f1ea3811-f10e-444a-d462-d1830c070c4e",
        "colab": {
          "base_uri": "https://localhost:8080/",
          "height": 1000
        }
      },
      "source": [
        "start = '3/08/2020'\n",
        "start_date = dt.datetime.strptime(start, '%m/%d/%Y')\n",
        "f_forcast_dates = []\n",
        "for i in range(len(future_forcast)):\n",
        "    f_forcast_dates.append((start_date + dt.timedelta(days=i)).strftime('%m/%d/%Y'))\n",
        "f_forcast_dates"
      ],
      "execution_count": null,
      "outputs": [
        {
          "output_type": "execute_result",
          "data": {
            "text/plain": [
              "['03/08/2020',\n",
              " '03/09/2020',\n",
              " '03/10/2020',\n",
              " '03/11/2020',\n",
              " '03/12/2020',\n",
              " '03/13/2020',\n",
              " '03/14/2020',\n",
              " '03/15/2020',\n",
              " '03/16/2020',\n",
              " '03/17/2020',\n",
              " '03/18/2020',\n",
              " '03/19/2020',\n",
              " '03/20/2020',\n",
              " '03/21/2020',\n",
              " '03/22/2020',\n",
              " '03/23/2020',\n",
              " '03/24/2020',\n",
              " '03/25/2020',\n",
              " '03/26/2020',\n",
              " '03/27/2020',\n",
              " '03/28/2020',\n",
              " '03/29/2020',\n",
              " '03/30/2020',\n",
              " '03/31/2020',\n",
              " '04/01/2020',\n",
              " '04/02/2020',\n",
              " '04/03/2020',\n",
              " '04/04/2020',\n",
              " '04/05/2020',\n",
              " '04/06/2020',\n",
              " '04/07/2020',\n",
              " '04/08/2020',\n",
              " '04/09/2020',\n",
              " '04/10/2020',\n",
              " '04/11/2020',\n",
              " '04/12/2020',\n",
              " '04/13/2020',\n",
              " '04/14/2020',\n",
              " '04/15/2020',\n",
              " '04/16/2020',\n",
              " '04/17/2020',\n",
              " '04/18/2020',\n",
              " '04/19/2020',\n",
              " '04/20/2020',\n",
              " '04/21/2020',\n",
              " '04/22/2020',\n",
              " '04/23/2020',\n",
              " '04/24/2020',\n",
              " '04/25/2020',\n",
              " '04/26/2020',\n",
              " '04/27/2020',\n",
              " '04/28/2020',\n",
              " '04/29/2020',\n",
              " '04/30/2020',\n",
              " '05/01/2020',\n",
              " '05/02/2020',\n",
              " '05/03/2020',\n",
              " '05/04/2020',\n",
              " '05/05/2020',\n",
              " '05/06/2020',\n",
              " '05/07/2020',\n",
              " '05/08/2020',\n",
              " '05/09/2020',\n",
              " '05/10/2020',\n",
              " '05/11/2020',\n",
              " '05/12/2020',\n",
              " '05/13/2020',\n",
              " '05/14/2020',\n",
              " '05/15/2020',\n",
              " '05/16/2020',\n",
              " '05/17/2020',\n",
              " '05/18/2020',\n",
              " '05/19/2020',\n",
              " '05/20/2020',\n",
              " '05/21/2020',\n",
              " '05/22/2020',\n",
              " '05/23/2020',\n",
              " '05/24/2020',\n",
              " '05/25/2020',\n",
              " '05/26/2020',\n",
              " '05/27/2020',\n",
              " '05/28/2020',\n",
              " '05/29/2020',\n",
              " '05/30/2020',\n",
              " '05/31/2020',\n",
              " '06/01/2020',\n",
              " '06/02/2020',\n",
              " '06/03/2020',\n",
              " '06/04/2020',\n",
              " '06/05/2020',\n",
              " '06/06/2020',\n",
              " '06/07/2020',\n",
              " '06/08/2020',\n",
              " '06/09/2020',\n",
              " '06/10/2020',\n",
              " '06/11/2020',\n",
              " '06/12/2020',\n",
              " '06/13/2020',\n",
              " '06/14/2020',\n",
              " '06/15/2020',\n",
              " '06/16/2020',\n",
              " '06/17/2020',\n",
              " '06/18/2020',\n",
              " '06/19/2020',\n",
              " '06/20/2020',\n",
              " '06/21/2020',\n",
              " '06/22/2020',\n",
              " '06/23/2020',\n",
              " '06/24/2020',\n",
              " '06/25/2020',\n",
              " '06/26/2020',\n",
              " '06/27/2020',\n",
              " '06/28/2020',\n",
              " '06/29/2020',\n",
              " '06/30/2020',\n",
              " '07/01/2020',\n",
              " '07/02/2020',\n",
              " '07/03/2020',\n",
              " '07/04/2020',\n",
              " '07/05/2020',\n",
              " '07/06/2020',\n",
              " '07/07/2020',\n",
              " '07/08/2020',\n",
              " '07/09/2020',\n",
              " '07/10/2020',\n",
              " '07/11/2020',\n",
              " '07/12/2020',\n",
              " '07/13/2020',\n",
              " '07/14/2020',\n",
              " '07/15/2020',\n",
              " '07/16/2020',\n",
              " '07/17/2020',\n",
              " '07/18/2020',\n",
              " '07/19/2020',\n",
              " '07/20/2020',\n",
              " '07/21/2020',\n",
              " '07/22/2020',\n",
              " '07/23/2020',\n",
              " '07/24/2020',\n",
              " '07/25/2020',\n",
              " '07/26/2020',\n",
              " '07/27/2020',\n",
              " '07/28/2020',\n",
              " '07/29/2020',\n",
              " '07/30/2020',\n",
              " '07/31/2020',\n",
              " '08/01/2020',\n",
              " '08/02/2020',\n",
              " '08/03/2020',\n",
              " '08/04/2020',\n",
              " '08/05/2020',\n",
              " '08/06/2020',\n",
              " '08/07/2020',\n",
              " '08/08/2020',\n",
              " '08/09/2020',\n",
              " '08/10/2020',\n",
              " '08/11/2020',\n",
              " '08/12/2020',\n",
              " '08/13/2020',\n",
              " '08/14/2020',\n",
              " '08/15/2020',\n",
              " '08/16/2020',\n",
              " '08/17/2020',\n",
              " '08/18/2020',\n",
              " '08/19/2020']"
            ]
          },
          "metadata": {
            "tags": []
          },
          "execution_count": 323
        }
      ]
    },
    {
      "cell_type": "markdown",
      "metadata": {
        "id": "clUZfrQgLHFI"
      },
      "source": [
        "#Models"
      ]
    },
    {
      "cell_type": "markdown",
      "metadata": {
        "id": "qyBmjVajLKNM"
      },
      "source": [
        "##SVR"
      ]
    },
    {
      "cell_type": "code",
      "metadata": {
        "id": "D2oMaY5RLJh-"
      },
      "source": [
        "def svm_fun(day,data,X, y, X_test,y_test ,f_forecast, plt,case):\n",
        "  squared_error = []\n",
        "  poly_svr = SVR(kernel='poly' ,C =1000.0 ,degree=3, gamma=.015)\n",
        "  fut_svr = SVR(kernel='poly' ,C =1000.0 ,degree=3, gamma=.015)\n",
        "  poly_svr.fit(X,y)\n",
        "  fut_svr.fit(day,data)\n",
        "  svr_pred = fut_svr.predict(f_forecast)\n",
        "  svm_test_pred= poly_svr.predict(X_test)\n",
        "  for j in range(0,len(X_test)):\n",
        "    # squared_error.append ((y_test[j]-svm_test_pred[j][0])**2) #death case & reco\n",
        "    squared_error.append ((y_test[j]-svm_test_pred[j])**2) # confirm\n",
        "  sd = stat.stdev(squared_error)\n",
        "  weight_svm =  mean_squared_error(svm_test_pred, y_test) / sd\n",
        "  fig=plt.figure(figsize=(10,5))\n",
        "  # plt.plot(y_test,linestyle='dotted',lw=3)\n",
        "  # plt.plot(svm_test_pred,linestyle='dotted',lw=3)\n",
        "  plt.plot(data,linestyle='dotted',lw=3)\n",
        "  plt.plot(svr_pred[:135],linestyle='dotted',lw=3)\n",
        "  if case==\"con\":\n",
        "    plt.ylabel('Number of Confirm Cases')\n",
        "  elif case==\"death\":\n",
        "    plt.ylabel('Number of Death Cases')\n",
        "  else:\n",
        "    plt.ylabel('Number of Recovery Cases')\n",
        "  plt.xlabel('Number of days')\n",
        "  plt.legend([\" Test Data \", \" SVR Predictions \"])\n",
        "  fig.savefig('svr_reco.png')\n",
        "  #fig.savefig('/content/drive/My Drive/Covid-test-graph/'+'SVRTest_'+case+'.png')\n",
        "  print(\"MAE:\", mean_absolute_error(svm_test_pred, y_test))\n",
        "  print(\"MSE:\", mean_squared_error(svm_test_pred, y_test))\n",
        "  print(\"RMSE:\", math.sqrt(mean_squared_error(svm_test_pred, y_test)))\n",
        "  print(\"RMSE Main:\", math.sqrt(mean_squared_error(data, svr_pred[:135])))\n",
        "  print(\"W:\",weight_svm)\n",
        "\n",
        "  return svm_test_pred , weight_svm,svr_pred"
      ],
      "execution_count": null,
      "outputs": []
    },
    {
      "cell_type": "markdown",
      "metadata": {
        "id": "KPJChilHLSqk"
      },
      "source": [
        "##NuSVR"
      ]
    },
    {
      "cell_type": "code",
      "metadata": {
        "id": "Nwjk209Hmb7L"
      },
      "source": [
        "def Nu_svr(day,data,X, y, X_test,y_test ,f_forecast, plt,case):\n",
        "  squared_error = []\n",
        "  \n",
        "  clf = NuSVR(kernel='poly',degree=3,C=1000.0,gamma=.015,nu=0.01)\n",
        "  nu_fut = NuSVR(kernel='poly',degree=3,C=1000.0,gamma=.015,nu=0.01)\n",
        "  clf.fit(X,y)\n",
        "  nu_fut.fit(day,data)\n",
        "  Nu_svm_test_pred= clf.predict(X_test)\n",
        "  Nu_svr_pred = nu_fut.predict(f_forecast)\n",
        "\n",
        "  for j in range(0,len(X_test)):\n",
        "    squared_error.append ((y_test[j]-Nu_svm_test_pred[j])**2)\n",
        "    #squared_error.append ((y_test[j]-Nu_svm_test_pred[j][0])**2) #death case & reco\n",
        "  sd = stat.stdev(squared_error)\n",
        "  weight_nusvr =  mean_squared_error(Nu_svm_test_pred, y_test) / sd\n",
        " \n",
        " \n",
        "  print(\"MAE:\", mean_absolute_error(Nu_svm_test_pred, y_test))\n",
        "  print(\"MSE:\", mean_squared_error(Nu_svm_test_pred, y_test))\n",
        "  print(\"RMSE:\", math.sqrt(mean_squared_error(Nu_svm_test_pred, y_test)))\n",
        "  fig=plt.figure(figsize=(10,5))\n",
        "  plt.plot(y_test,linestyle='dotted',lw=3)\n",
        "  plt.plot(Nu_svm_test_pred,linestyle='dotted',lw=3)\n",
        "  if case==\"con\":\n",
        "    plt.ylabel('Number of Confirm Cases')\n",
        "  elif case==\"death\":\n",
        "    plt.ylabel('Number of Death Cases')\n",
        "  else:\n",
        "    plt.ylabel('Number of Recovery Cases')\n",
        "  plt.xlabel('Number of days')\n",
        "  plt.legend([\" Test Data \",\" NuSVR prediction\"])\n",
        "  #fig.savefig('/content/drive/My Drive/Covid-test-graph/'+'NuSVRTest_'+case+'.png')\n",
        "  fig.savefig('nusvr_reco.png')\n",
        "  return Nu_svm_test_pred , weight_nusvr,Nu_svr_pred"
      ],
      "execution_count": null,
      "outputs": []
    },
    {
      "cell_type": "markdown",
      "metadata": {
        "id": "A8vy1gHELxUt"
      },
      "source": [
        "##Polynomial Linear Regressiom"
      ]
    },
    {
      "cell_type": "code",
      "metadata": {
        "id": "Pq54Se0dL4B0"
      },
      "source": [
        "#Polynomial\n",
        "def polynomial_fun(day,data,X, y, X_test,y_test ,f_forecast, plt,case):\n",
        "  squared_error = []\n",
        "\n",
        "  poly = PolynomialFeatures(degree=2)\n",
        "  poly_f = PolynomialFeatures(degree=2)\n",
        "  poly_X_train_confirmed = poly.fit_transform(X)\n",
        "  poly_X_test_confirmed = poly.transform(X_test)\n",
        "\n",
        "  poly_day = poly_f.fit_transform(day)\n",
        "  # poly_data = poly_f.transform(data)\n",
        "  poly_future_forcast = poly_f.transform(f_forecast)\n",
        "\n",
        "  linear_model = LinearRegression(normalize=True, fit_intercept=False)\n",
        "  poly_model = LinearRegression(normalize=True, fit_intercept=False)\n",
        "  linear_model.fit(poly_X_train_confirmed, y)\n",
        "  poly_model.fit(poly_day,data)\n",
        "\n",
        "  test_linear_pred = linear_model.predict(poly_X_test_confirmed)\n",
        "\n",
        "  bangladesh_linear_pred = poly_model.predict(poly_future_forcast)\n",
        "  for j in range(0,len(X_test)):\n",
        "    squared_error.append ((y_test[j]-test_linear_pred[j])**2)\n",
        "    #squared_error.append ((y_test[j]-Nu_svm_test_pred[j][0])**2) #death case & reco\n",
        "\n",
        "  sd = stat.stdev(squared_error)\n",
        "  weight_poly =  mean_squared_error(test_linear_pred, y_test) / sd\n",
        "\n",
        "\n",
        "  print('MAE:', mean_absolute_error(test_linear_pred, y_test))\n",
        "  print('MSE:',mean_squared_error(test_linear_pred, y_test))\n",
        "  print('RMSE:',math.sqrt(mean_squared_error(test_linear_pred, y_test)))\n",
        "  fig=plt.figure(figsize=(10,5))\n",
        "\n",
        "  plt.plot(y_test,linestyle='dotted',lw=3)\n",
        "  plt.plot(test_linear_pred,linestyle='dotted',lw=3)\n",
        "  if case==\"con\":\n",
        "    plt.ylabel('Number of Confirm Cases')\n",
        "  elif case==\"death\":\n",
        "    plt.ylabel('Number of Death Cases')\n",
        "  else:\n",
        "    plt.ylabel('Number of Recovery Cases')\n",
        "  plt.xlabel('Number of days')\n",
        "  plt.legend([' Test Data ', ' Polynomial Regression Predictions '])\n",
        "  fig.savefig('poly_reco.png')\n",
        "  #fig.savefig('/content/drive/My Drive/Covid-test-graph/'+'Poly_'+case+'.png')\n",
        "  return test_linear_pred , weight_poly,bangladesh_linear_pred\n"
      ],
      "execution_count": null,
      "outputs": []
    },
    {
      "cell_type": "markdown",
      "metadata": {
        "id": "FZqNZBE_MG9g"
      },
      "source": [
        "##ARIMA"
      ]
    },
    {
      "cell_type": "code",
      "metadata": {
        "id": "5SmBSIZ8IQTl"
      },
      "source": [
        "def ARIMA_fun(day,data,X, y, X_test,y_test ,order,f_forecast, plt,case):\n",
        "  predictions = list()\n",
        "  fut_pred=[]\n",
        "  squared_error = []\n",
        "  history = [x for x in y]\n",
        "  history1 = [z for z in data]\n",
        "  \n",
        "  for t in range(len(y_test)):\n",
        "    model = ARIMA(history, order=order)\n",
        "    model_fit = model.fit(disp=0)\n",
        "    output = model_fit.forecast()\n",
        "    yhat = output[0]\n",
        "    predictions.append(yhat)\n",
        "    obs = y_test[t]\n",
        "    history.append(obs)\n",
        "  #Forecasting\n",
        "  for t in range(0,30):\n",
        "    model_f = ARIMA(history1, order=order)\n",
        "    model_f_fit = model_f.fit(disp=0)\n",
        "    output1 = model_f_fit.forecast()\n",
        "    yhat1 = output1[0]\n",
        "    fut_pred.append(yhat1)\n",
        "    history1.append(yhat1)\n",
        "\n",
        "  for j in range(0,len(y_test)):\n",
        "    squared_error.append ((y_test[j]-predictions[j][0])**2) #death case & reco\n",
        "  sd = stat.stdev(squared_error)\n",
        "  weight_ar =  mean_squared_error(predictions, y_test) / sd\n",
        "  error = mean_squared_error(y_test, predictions)\n",
        "  RMSE = math.sqrt(error)\n",
        "  print('Test MSE: %.3f', error)\n",
        "  print('Test RMSE: %.3f',RMSE)\n",
        "  # plot\n",
        "  fut_pred=np.array(fut_pred).reshape(1,-1)[0]\n",
        "  fig=plt.figure(figsize=(10,5))\n",
        "  plt.plot(y_test,linestyle='dotted',lw=3)\n",
        "  plt.plot(predictions,linestyle='dotted',lw=3)\n",
        "  if case==\"con\":\n",
        "    plt.ylabel('Number of Confirm Cases')\n",
        "  elif case==\"death\":\n",
        "    plt.ylabel('Number of Death Cases')\n",
        "  else:\n",
        "    plt.ylabel('Number of Recovery Cases')\n",
        "  plt.xlabel('Number of days')\n",
        "  plt.legend([\" Test Data \",\" ARIMA prediction\"])\n",
        "  #fig.savefig('/content/drive/My Drive/Covid-test-graph/'+\"ARIMATEST_\"+case+'.png')\n",
        "  #fig.savefig('arima_reco.png')\n",
        "  #print(model_fit.summary())\n",
        "  return predictions , weight_ar,fut_pred"
      ],
      "execution_count": null,
      "outputs": []
    },
    {
      "cell_type": "markdown",
      "metadata": {
        "id": "KeBHRWsdjSeG"
      },
      "source": [
        ""
      ]
    },
    {
      "cell_type": "code",
      "metadata": {
        "id": "q7bLfQ20Z-LT"
      },
      "source": [
        "\n",
        "def evaluate_arima_model(X,test, arima_order):\n",
        "\n",
        "\thistory = [x for x in X]\n",
        "\t# make predictions\n",
        "\tpredictions = list()\n",
        "\tfor t in range(len(test)):\n",
        "\t\tmodel = ARIMA(history, order=arima_order)\n",
        "\t\tmodel_fit = model.fit(disp=0)\n",
        "\t\tyhat = model_fit.forecast()[0]\n",
        "\t\tpredictions.append(yhat)\n",
        "\t\thistory.append(test[t])\n",
        "\t# calculate out of sample error\n",
        "\terror = mean_squared_error(test, predictions)\n",
        "\n",
        "\treturn error\n",
        " \n",
        "# evaluate combinations of p, d and q values for an ARIMA model\n",
        "def evaluate_models(dataset,test, p_values, d_values, q_values):\n",
        "  # dataset = dataset.astype('float32')\n",
        "\tbest_score, best_cfg = float(\"inf\"), None\n",
        "\tfor p in p_values:\n",
        "\t\tfor d in d_values:\n",
        "\t\t\tfor q in q_values:\n",
        "\t\t\t\torder = (p,d,q)\n",
        "\t\t\t\ttry:\n",
        "\t\t\t\t\tmse = evaluate_arima_model(dataset,test, order)\n",
        "\t\t\t\t\tif mse < best_score:\n",
        "\t\t\t\t\t\tbest_score, best_cfg = mse, order\n",
        "\t\t\t\t\tprint('ARIMA%s MSE=%.3f' % (order,mse))\n",
        "\t\t\t\texcept:\n",
        "\t\t\t\t\tcontinue\n",
        "\tprint('Best ARIMA%s MSE=%.3f' % (best_cfg, best_score))\n",
        "\treturn best_cfg\n",
        " \n"
      ],
      "execution_count": null,
      "outputs": []
    },
    {
      "cell_type": "markdown",
      "metadata": {
        "id": "WI1AJjGuIzF_"
      },
      "source": [
        "#Confirmed Case Analysis"
      ]
    },
    {
      "cell_type": "code",
      "metadata": {
        "id": "ktqHV9SLLEEv",
        "outputId": "469b55bb-c0a1-4258-c1b3-e1a36570050a",
        "colab": {
          "base_uri": "https://localhost:8080/",
          "height": 34
        }
      },
      "source": [
        "bd_total_cases=bd_total_cases[:135]\n",
        "X_train_confirmed, X_test_confirmed, y_train_confirmed, y_test_confirmed = train_test_split(days_since_3_8[:135], bd_total_cases, test_size=0.20, shuffle=False)\n",
        "print(\"[Bangladesh: Confirmed cases] Xtrain:{} Ytrain{}\".format(len(X_train_confirmed), len(y_train_confirmed))) "
      ],
      "execution_count": null,
      "outputs": [
        {
          "output_type": "stream",
          "text": [
            "[Bangladesh: Confirmed cases] Xtrain:108 Ytrain108\n"
          ],
          "name": "stdout"
        }
      ]
    },
    {
      "cell_type": "markdown",
      "metadata": {
        "id": "xbh-wpXjI_bT"
      },
      "source": [
        "##SVM"
      ]
    },
    {
      "cell_type": "code",
      "metadata": {
        "id": "ldZijmLknB9r",
        "outputId": "745b3c1b-169d-403c-8003-6f134f411db3",
        "colab": {
          "base_uri": "https://localhost:8080/",
          "height": 412
        }
      },
      "source": [
        "bd_svm_test, w_svm,bd_svm_pred= svm_fun(days_since_3_8[:135], bd_total_cases,X_train_confirmed, y_train_confirmed, X_test_confirmed, y_test_confirmed, future_forcast, plt,'con')\n",
        "print(len(bd_svm_pred))"
      ],
      "execution_count": null,
      "outputs": [
        {
          "output_type": "stream",
          "text": [
            "MAE: 8203.91973784987\n",
            "MSE: 82372059.68533973\n",
            "RMSE: 9075.905447135274\n",
            "RMSE Main: 5022.594172731097\n",
            "W: 1.4854303627095466\n",
            "165\n"
          ],
          "name": "stdout"
        },
        {
          "output_type": "display_data",
          "data": {
            "image/png": "[encoded data removed]",
            "text/plain": [
              "<Figure size 720x360 with 1 Axes>"
            ]
          },
          "metadata": {
            "tags": [],
            "needs_background": "light"
          }
        }
      ]
    },
    {
      "cell_type": "markdown",
      "metadata": {
        "id": "mhSKKba1_ett"
      },
      "source": [
        "svr try to improve"
      ]
    },
    {
      "cell_type": "code",
      "metadata": {
        "id": "iKmG0Vx0E9Yq"
      },
      "source": [
        ""
      ],
      "execution_count": null,
      "outputs": []
    },
    {
      "cell_type": "code",
      "metadata": {
        "id": "R3YAxnyJExRX"
      },
      "source": [
        "# Nu_svm_test_pred= rbf_svr.predict(X_test_confirmed)\n",
        "# #svm_test_pred= rbf_svr.predict(X_test_confirmed)\n",
        "# print(\"MAE:\", mean_absolute_error(Nu_svm_test_pred, y_test_confirmed))\n",
        "# print(\"MSE:\", mean_squared_error(Nu_svm_test_pred, y_test_confirmed))\n",
        "# print(\"RMSE:\", math.sqrt(mean_squared_error(Nu_svm_test_pred, y_test_confirmed)))\n",
        "# rbf_svr.score(X_train_confirmed,y_train_confirmed)*100"
      ],
      "execution_count": null,
      "outputs": []
    },
    {
      "cell_type": "code",
      "metadata": {
        "id": "ncSsmFShA1ds"
      },
      "source": [
        "# plt.figure(figsize=(16,8))\n",
        "# plt.scatter(X_test_confirmed,y_test_confirmed,color = 'red',label = 'data')\n",
        "# plt.plot(X_test_confirmed, rbf_svr.predict(X_test_confirmed), color = 'green',label = 'RBF')\n",
        "# plt.plot(X_test_confirmed, lin_svr.predict(X_test_confirmed), color = 'blue',label = 'lin')\n",
        "# plt.plot(X_test_confirmed, poly_nusvr.predict(X_test_confirmed),color = 'purple', label = 'ply')"
      ],
      "execution_count": null,
      "outputs": []
    },
    {
      "cell_type": "markdown",
      "metadata": {
        "id": "xF3_j_tbdjfG"
      },
      "source": [
        "##ARIMA\n"
      ]
    },
    {
      "cell_type": "code",
      "metadata": {
        "id": "ds3xJhfZdogU",
        "outputId": "a9492586-48e3-49b4-8602-8d8695f400b6",
        "colab": {
          "base_uri": "https://localhost:8080/",
          "height": 336
        }
      },
      "source": [
        "# evaluate parameters\n",
        "p_values = [0, 1, 2, 3]\n",
        "d_values = [0, 1, 2]\n",
        "q_values = [0, 1, 2, 3]\n",
        "warnings.filterwarnings(\"ignore\")\n",
        "order=evaluate_models(y_train_confirmed,y_test_confirmed ,p_values, d_values, q_values)"
      ],
      "execution_count": null,
      "outputs": [
        {
          "output_type": "stream",
          "text": [
            "ARIMA(0, 0, 1) MSE=3824226523.752\n",
            "ARIMA(0, 0, 3) MSE=371467483.887\n",
            "ARIMA(0, 1, 1) MSE=1479335.711\n",
            "ARIMA(0, 1, 2) MSE=780621.839\n",
            "ARIMA(0, 1, 3) MSE=504521.879\n",
            "ARIMA(0, 2, 1) MSE=129109.065\n",
            "ARIMA(0, 2, 2) MSE=132887.710\n",
            "ARIMA(1, 0, 0) MSE=11293508.835\n",
            "ARIMA(1, 1, 0) MSE=130613.042\n",
            "ARIMA(1, 2, 0) MSE=133068.835\n",
            "ARIMA(1, 2, 1) MSE=133461.669\n",
            "ARIMA(2, 1, 0) MSE=125329.719\n",
            "ARIMA(2, 2, 0) MSE=137106.583\n",
            "ARIMA(2, 2, 1) MSE=133753.247\n",
            "ARIMA(3, 1, 0) MSE=128565.840\n",
            "ARIMA(3, 2, 0) MSE=135511.281\n",
            "ARIMA(3, 2, 1) MSE=133364.708\n",
            "Best ARIMA(2, 1, 0) MSE=125329.719\n"
          ],
          "name": "stdout"
        }
      ]
    },
    {
      "cell_type": "code",
      "metadata": {
        "id": "z_h_F_t_RJVe",
        "outputId": "e0660725-6cbb-4a0c-85dd-68b51601e0c3",
        "colab": {
          "base_uri": "https://localhost:8080/",
          "height": 503
        }
      },
      "source": [
        "\n",
        "bd_con_arima_test,w_arima,bd_con_arima_pred = ARIMA_fun(days_since_3_8[:135], bd_total_cases,X_train_confirmed, y_train_confirmed, X_test_confirmed, y_test_confirmed,order, future_forcast, plt,'con')\n",
        "print((bd_con_arima_pred))\n",
        "print(w_arima)"
      ],
      "execution_count": null,
      "outputs": [
        {
          "output_type": "stream",
          "text": [
            "Test MSE: %.3f 134510.38774866803\n",
            "Test RMSE: %.3f 366.7565783304616\n",
            "[210290.34467024 213149.02024854 216029.02585533 218930.36064897\n",
            " 221853.02783077 224797.02297547 227762.34891734 230749.00455789\n",
            " 233756.99039931 236786.30677606 239836.95323722 242908.92937173\n",
            " 246002.23414874 249116.86846654 252252.83418671 255410.12977656\n",
            " 258588.75668062 261788.71417072 265010.00408487 268252.62438924\n",
            " 271516.57316766 274801.85252977 278108.46231462 281436.40160774\n",
            " 284785.6659246  288156.26383315 291548.1896291  294961.44572095\n",
            " 298396.03195389 301851.9488414 ]\n",
            "0.7679929668383257\n"
          ],
          "name": "stdout"
        },
        {
          "output_type": "display_data",
          "data": {
            "image/png": "[encoded data removed]",
            "text/plain": [
              "<Figure size 720x360 with 1 Axes>"
            ]
          },
          "metadata": {
            "tags": [],
            "needs_background": "light"
          }
        }
      ]
    },
    {
      "cell_type": "markdown",
      "metadata": {
        "id": "BNsns2aNLi5M"
      },
      "source": [
        "##NuSVR"
      ]
    },
    {
      "cell_type": "code",
      "metadata": {
        "id": "dBuCQamtLl5a",
        "outputId": "5a01b8c2-3d82-416f-9ea1-d054f41b9971",
        "colab": {
          "base_uri": "https://localhost:8080/",
          "height": 396
        }
      },
      "source": [
        "bd_Nu_svm_test,w_nusvr,bd_Nu_svm_pred = Nu_svr(days_since_3_8[:135], bd_total_cases,X_train_confirmed, y_train_confirmed, X_test_confirmed, y_test_confirmed, future_forcast, plt,'con')\n",
        "print(len(bd_Nu_svm_pred))\n",
        "print(w_nusvr)"
      ],
      "execution_count": null,
      "outputs": [
        {
          "output_type": "stream",
          "text": [
            "MAE: 7348.320356717478\n",
            "MSE: 78170311.97258116\n",
            "RMSE: 8841.397625521724\n",
            "165\n",
            "0.7334867870317563\n"
          ],
          "name": "stdout"
        },
        {
          "output_type": "display_data",
          "data": {
            "image/png": "[encoded data removed]",
            "text/plain": [
              "<Figure size 720x360 with 1 Axes>"
            ]
          },
          "metadata": {
            "tags": [],
            "needs_background": "light"
          }
        }
      ]
    },
    {
      "cell_type": "code",
      "metadata": {
        "id": "zlyxAOgW59Mx",
        "outputId": "66740001-ef81-4799-f81f-d81d9096c74a",
        "colab": {
          "base_uri": "https://localhost:8080/",
          "height": 34
        }
      },
      "source": [
        "print(bd_Nu_svm_pred[129])"
      ],
      "execution_count": null,
      "outputs": [
        {
          "output_type": "stream",
          "text": [
            "194860.64278939852\n"
          ],
          "name": "stdout"
        }
      ]
    },
    {
      "cell_type": "markdown",
      "metadata": {
        "id": "LLmeGmD4JQqX"
      },
      "source": [
        "##Polynomial Linear Regresion"
      ]
    },
    {
      "cell_type": "code",
      "metadata": {
        "id": "W1DsgiFBpkV6",
        "outputId": "6933ab32-eb61-4332-8829-241ec9a6edd1",
        "colab": {
          "base_uri": "https://localhost:8080/",
          "height": 378
        }
      },
      "source": [
        "bangladesh_linear_test,w_poly,bangladesh_linear_pred = polynomial_fun(days_since_3_8[:135], bd_total_cases,X_train_confirmed, y_train_confirmed, X_test_confirmed, y_test_confirmed, future_forcast, plt,'con')\n",
        "# print(len(bangladesh_linear_pred))\n",
        "print(w_poly)"
      ],
      "execution_count": null,
      "outputs": [
        {
          "output_type": "stream",
          "text": [
            "MAE: 12386.608134605305\n",
            "MSE: 160945836.16389212\n",
            "RMSE: 12686.443006764825\n",
            "2.515250356994735\n"
          ],
          "name": "stdout"
        },
        {
          "output_type": "display_data",
          "data": {
            "image/png": "[encoded data removed]",
            "text/plain": [
              "<Figure size 720x360 with 1 Axes>"
            ]
          },
          "metadata": {
            "tags": [],
            "needs_background": "light"
          }
        }
      ]
    },
    {
      "cell_type": "markdown",
      "metadata": {
        "id": "kCAJVF34gQmB"
      },
      "source": [
        "**Ensemble test pred**"
      ]
    },
    {
      "cell_type": "code",
      "metadata": {
        "id": "xtwbzsdQgYmm"
      },
      "source": [
        "# weight_svm = w_svm/(w_nusvr+w_poly+w_svm+w_arima)\n",
        "# weight_nusvr = w_nusvr/(w_nusvr+w_poly+w_svm+w_arima)\n",
        "# weight_poly = w_poly/(w_nusvr+w_poly+w_svm+w_arima)\n",
        "# weight_arima = 1-(weight_nusvr+weight_poly+weight_svm)"
      ],
      "execution_count": null,
      "outputs": []
    },
    {
      "cell_type": "code",
      "metadata": {
        "id": "JvS0X5jdXku3"
      },
      "source": [
        "# print(weight_svm)\n",
        "# print(weight_nusvr)\n",
        "# print(weight_poly)\n",
        "# print(weight_arima)"
      ],
      "execution_count": null,
      "outputs": []
    },
    {
      "cell_type": "code",
      "metadata": {
        "id": "lYILJ9yghE4n"
      },
      "source": [
        "# ensemble_test_pred = []\n",
        "# for i in range(len(y_test_confirmed)):\n",
        "#   ensemble_test_pred.append((bd_arima_pred[i]*weight_arima)+(bd_svm_pred[i]*weight_svm)+(bd_Nu_svm_pred[i]*weight_nusvr)+(bangladesh_linear_pred[i]*weight_poly))\n",
        "# mse = mean_squared_error(ensemble_test_pred,y_test_confirmed)\n",
        "# RMSE = math.sqrt(mse)\n",
        "# print('Test MSE:', mse)\n",
        "# print('Test RMSE:',RMSE)"
      ],
      "execution_count": null,
      "outputs": []
    },
    {
      "cell_type": "code",
      "metadata": {
        "id": "vTiWBCwWizLb"
      },
      "source": [
        "  # fig=plt.figure(figsize=(10,5))\n",
        "  # plt.plot(y_test_confirmed,linestyle='dotted',lw=3)\n",
        "  # plt.plot(ensemble_test_pred,linestyle='dotted',lw=3)\n",
        "  # plt.ylabel('Number of confirmed Cases')\n",
        "  # plt.xlabel('Number of days')\n",
        "  # plt.legend([\" Test Data \",\" Ensemble model prediction\"])\n",
        "  # #fig.savefig('/content/drive/My Drive/Covid-test-graph/'+\"ARIMATEST_\"+case+'.png')\n",
        "  # fig.savefig('ensemble_con.png')"
      ],
      "execution_count": null,
      "outputs": []
    },
    {
      "cell_type": "markdown",
      "metadata": {
        "id": "cxggqAvLJwWo"
      },
      "source": [
        "#Future Forecasting for Confirmed Case"
      ]
    },
    {
      "cell_type": "markdown",
      "metadata": {
        "id": "UwKmJDG5J59o"
      },
      "source": [
        "## Future prediction using SVM"
      ]
    },
    {
      "cell_type": "code",
      "metadata": {
        "id": "j-J_oT-Q_c5n",
        "outputId": "15047629-e60b-4545-f785-2de3df2f6a5d",
        "colab": {
          "base_uri": "https://localhost:8080/",
          "height": 197
        }
      },
      "source": [
        "# Future Forecasting using SVM\n",
        "bangladesh_svm_df = pd.DataFrame({'Date': f_forcast_dates[-30:], 'SVM Predicted # of Confirmed Cases Bangladesh': np.round(bd_svm_pred[-30:])})\n",
        "bangladesh_svm_df.iloc[-5:]"
      ],
      "execution_count": null,
      "outputs": [
        {
          "output_type": "execute_result",
          "data": {
            "text/html": [
              "<div>\n",
              "<style scoped>\n",
              "    .dataframe tbody tr th:only-of-type {\n",
              "        vertical-align: middle;\n",
              "    }\n",
              "\n",
              "    .dataframe tbody tr th {\n",
              "        vertical-align: top;\n",
              "    }\n",
              "\n",
              "    .dataframe thead th {\n",
              "        text-align: right;\n",
              "    }\n",
              "</style>\n",
              "<table border=\"1\" class=\"dataframe\">\n",
              "  <thead>\n",
              "    <tr style=\"text-align: right;\">\n",
              "      <th></th>\n",
              "      <th>Date</th>\n",
              "      <th>SVM Predicted # of Confirmed Cases Bangladesh</th>\n",
              "    </tr>\n",
              "  </thead>\n",
              "  <tbody>\n",
              "    <tr>\n",
              "      <th>25</th>\n",
              "      <td>08/15/2020</td>\n",
              "      <td>383566.0</td>\n",
              "    </tr>\n",
              "    <tr>\n",
              "      <th>26</th>\n",
              "      <td>08/16/2020</td>\n",
              "      <td>390874.0</td>\n",
              "    </tr>\n",
              "    <tr>\n",
              "      <th>27</th>\n",
              "      <td>08/17/2020</td>\n",
              "      <td>398273.0</td>\n",
              "    </tr>\n",
              "    <tr>\n",
              "      <th>28</th>\n",
              "      <td>08/18/2020</td>\n",
              "      <td>405765.0</td>\n",
              "    </tr>\n",
              "    <tr>\n",
              "      <th>29</th>\n",
              "      <td>08/19/2020</td>\n",
              "      <td>413348.0</td>\n",
              "    </tr>\n",
              "  </tbody>\n",
              "</table>\n",
              "</div>"
            ],
            "text/plain": [
              "          Date  SVM Predicted # of Confirmed Cases Bangladesh\n",
              "25  08/15/2020                                       383566.0\n",
              "26  08/16/2020                                       390874.0\n",
              "27  08/17/2020                                       398273.0\n",
              "28  08/18/2020                                       405765.0\n",
              "29  08/19/2020                                       413348.0"
            ]
          },
          "metadata": {
            "tags": []
          },
          "execution_count": 343
        }
      ]
    },
    {
      "cell_type": "markdown",
      "metadata": {
        "id": "8joiTwLcJ-ZW"
      },
      "source": [
        "## Future Forecasting using Polynomial Lin. Regression"
      ]
    },
    {
      "cell_type": "code",
      "metadata": {
        "id": "Q96hN3GCAMxM",
        "outputId": "27eadbe0-b501-4dff-d8f8-bd018338b69b",
        "colab": {
          "base_uri": "https://localhost:8080/",
          "height": 197
        }
      },
      "source": [
        "#bangladesh_linear_pred\n",
        "# Future predictions using polynomial regression\n",
        "linear_pred = bangladesh_linear_pred.reshape(1,-1)[0]\n",
        "bangladesh_poly_df = pd.DataFrame({'Date': f_forcast_dates[-30:], 'Polynomial Predicted # of Confirmed Cases Bangladesh': np.round(linear_pred[-30:])})\n",
        "bangladesh_poly_df.iloc[-5:]"
      ],
      "execution_count": null,
      "outputs": [
        {
          "output_type": "execute_result",
          "data": {
            "text/html": [
              "<div>\n",
              "<style scoped>\n",
              "    .dataframe tbody tr th:only-of-type {\n",
              "        vertical-align: middle;\n",
              "    }\n",
              "\n",
              "    .dataframe tbody tr th {\n",
              "        vertical-align: top;\n",
              "    }\n",
              "\n",
              "    .dataframe thead th {\n",
              "        text-align: right;\n",
              "    }\n",
              "</style>\n",
              "<table border=\"1\" class=\"dataframe\">\n",
              "  <thead>\n",
              "    <tr style=\"text-align: right;\">\n",
              "      <th></th>\n",
              "      <th>Date</th>\n",
              "      <th>Polynomial Predicted # of Confirmed Cases Bangladesh</th>\n",
              "    </tr>\n",
              "  </thead>\n",
              "  <tbody>\n",
              "    <tr>\n",
              "      <th>25</th>\n",
              "      <td>08/15/2020</td>\n",
              "      <td>339132.0</td>\n",
              "    </tr>\n",
              "    <tr>\n",
              "      <th>26</th>\n",
              "      <td>08/16/2020</td>\n",
              "      <td>344439.0</td>\n",
              "    </tr>\n",
              "    <tr>\n",
              "      <th>27</th>\n",
              "      <td>08/17/2020</td>\n",
              "      <td>349786.0</td>\n",
              "    </tr>\n",
              "    <tr>\n",
              "      <th>28</th>\n",
              "      <td>08/18/2020</td>\n",
              "      <td>355174.0</td>\n",
              "    </tr>\n",
              "    <tr>\n",
              "      <th>29</th>\n",
              "      <td>08/19/2020</td>\n",
              "      <td>360603.0</td>\n",
              "    </tr>\n",
              "  </tbody>\n",
              "</table>\n",
              "</div>"
            ],
            "text/plain": [
              "          Date  Polynomial Predicted # of Confirmed Cases Bangladesh\n",
              "25  08/15/2020                                           339132.0   \n",
              "26  08/16/2020                                           344439.0   \n",
              "27  08/17/2020                                           349786.0   \n",
              "28  08/18/2020                                           355174.0   \n",
              "29  08/19/2020                                           360603.0   "
            ]
          },
          "metadata": {
            "tags": []
          },
          "execution_count": 344
        }
      ]
    },
    {
      "cell_type": "markdown",
      "metadata": {
        "id": "Pm7kj_6aKqv9"
      },
      "source": [
        "##Future Forecasting using NuSVR"
      ]
    },
    {
      "cell_type": "code",
      "metadata": {
        "id": "WzHdIZab9m2j",
        "outputId": "9441b3d6-5642-41eb-ddf9-e1c06dac69ec",
        "colab": {
          "base_uri": "https://localhost:8080/",
          "height": 197
        }
      },
      "source": [
        "bd_Nu_svm_pred=bd_Nu_svm_pred.reshape(1,-1)[0]\n",
        "bangladesh_Nu_svr_df = pd.DataFrame({'Date': f_forcast_dates[-30:], 'NuSVM Predicted # of Confirmed Cases Bangladesh': np.round(bd_Nu_svm_pred[-30:])})\n",
        "bangladesh_Nu_svr_df.iloc[-5:]"
      ],
      "execution_count": null,
      "outputs": [
        {
          "output_type": "execute_result",
          "data": {
            "text/html": [
              "<div>\n",
              "<style scoped>\n",
              "    .dataframe tbody tr th:only-of-type {\n",
              "        vertical-align: middle;\n",
              "    }\n",
              "\n",
              "    .dataframe tbody tr th {\n",
              "        vertical-align: top;\n",
              "    }\n",
              "\n",
              "    .dataframe thead th {\n",
              "        text-align: right;\n",
              "    }\n",
              "</style>\n",
              "<table border=\"1\" class=\"dataframe\">\n",
              "  <thead>\n",
              "    <tr style=\"text-align: right;\">\n",
              "      <th></th>\n",
              "      <th>Date</th>\n",
              "      <th>NuSVM Predicted # of Confirmed Cases Bangladesh</th>\n",
              "    </tr>\n",
              "  </thead>\n",
              "  <tbody>\n",
              "    <tr>\n",
              "      <th>25</th>\n",
              "      <td>08/15/2020</td>\n",
              "      <td>369381.0</td>\n",
              "    </tr>\n",
              "    <tr>\n",
              "      <th>26</th>\n",
              "      <td>08/16/2020</td>\n",
              "      <td>376300.0</td>\n",
              "    </tr>\n",
              "    <tr>\n",
              "      <th>27</th>\n",
              "      <td>08/17/2020</td>\n",
              "      <td>383305.0</td>\n",
              "    </tr>\n",
              "    <tr>\n",
              "      <th>28</th>\n",
              "      <td>08/18/2020</td>\n",
              "      <td>390398.0</td>\n",
              "    </tr>\n",
              "    <tr>\n",
              "      <th>29</th>\n",
              "      <td>08/19/2020</td>\n",
              "      <td>397578.0</td>\n",
              "    </tr>\n",
              "  </tbody>\n",
              "</table>\n",
              "</div>"
            ],
            "text/plain": [
              "          Date  NuSVM Predicted # of Confirmed Cases Bangladesh\n",
              "25  08/15/2020                                         369381.0\n",
              "26  08/16/2020                                         376300.0\n",
              "27  08/17/2020                                         383305.0\n",
              "28  08/18/2020                                         390398.0\n",
              "29  08/19/2020                                         397578.0"
            ]
          },
          "metadata": {
            "tags": []
          },
          "execution_count": 345
        }
      ]
    },
    {
      "cell_type": "markdown",
      "metadata": {
        "id": "E7Hka5fYmh4a"
      },
      "source": [
        "##Future Forecasting using ARIMA"
      ]
    },
    {
      "cell_type": "code",
      "metadata": {
        "id": "QUe7tO5qmecy",
        "outputId": "44267384-9f2c-46e4-81ea-1d1af14cb647",
        "colab": {
          "base_uri": "https://localhost:8080/",
          "height": 197
        }
      },
      "source": [
        "bd_con_arima_pred=np.array(bd_con_arima_pred).reshape(1,-1)[0]\n",
        "bd_con_arima_df = pd.DataFrame({'Date': f_forcast_dates[-30:], 'ARIMA Predicted # of Confirmed Cases Bangladesh': np.round(bd_con_arima_pred[-30:])})\n",
        "bd_con_arima_df.iloc[-5:]"
      ],
      "execution_count": null,
      "outputs": [
        {
          "output_type": "execute_result",
          "data": {
            "text/html": [
              "<div>\n",
              "<style scoped>\n",
              "    .dataframe tbody tr th:only-of-type {\n",
              "        vertical-align: middle;\n",
              "    }\n",
              "\n",
              "    .dataframe tbody tr th {\n",
              "        vertical-align: top;\n",
              "    }\n",
              "\n",
              "    .dataframe thead th {\n",
              "        text-align: right;\n",
              "    }\n",
              "</style>\n",
              "<table border=\"1\" class=\"dataframe\">\n",
              "  <thead>\n",
              "    <tr style=\"text-align: right;\">\n",
              "      <th></th>\n",
              "      <th>Date</th>\n",
              "      <th>ARIMA Predicted # of Confirmed Cases Bangladesh</th>\n",
              "    </tr>\n",
              "  </thead>\n",
              "  <tbody>\n",
              "    <tr>\n",
              "      <th>25</th>\n",
              "      <td>08/15/2020</td>\n",
              "      <td>276390.0</td>\n",
              "    </tr>\n",
              "    <tr>\n",
              "      <th>26</th>\n",
              "      <td>08/16/2020</td>\n",
              "      <td>278917.0</td>\n",
              "    </tr>\n",
              "    <tr>\n",
              "      <th>27</th>\n",
              "      <td>08/17/2020</td>\n",
              "      <td>281435.0</td>\n",
              "    </tr>\n",
              "    <tr>\n",
              "      <th>28</th>\n",
              "      <td>08/18/2020</td>\n",
              "      <td>283945.0</td>\n",
              "    </tr>\n",
              "    <tr>\n",
              "      <th>29</th>\n",
              "      <td>08/19/2020</td>\n",
              "      <td>286446.0</td>\n",
              "    </tr>\n",
              "  </tbody>\n",
              "</table>\n",
              "</div>"
            ],
            "text/plain": [
              "          Date  ARIMA Predicted # of Confirmed Cases Bangladesh\n",
              "25  08/15/2020                                         276390.0\n",
              "26  08/16/2020                                         278917.0\n",
              "27  08/17/2020                                         281435.0\n",
              "28  08/18/2020                                         283945.0\n",
              "29  08/19/2020                                         286446.0"
            ]
          },
          "metadata": {
            "tags": []
          },
          "execution_count": 346
        }
      ]
    },
    {
      "cell_type": "code",
      "metadata": {
        "id": "4lIlwdrymmXb"
      },
      "source": [
        ""
      ],
      "execution_count": null,
      "outputs": []
    },
    {
      "cell_type": "markdown",
      "metadata": {
        "id": "Q-qqnbbIPkDt"
      },
      "source": [
        "#Plotting Models for Confirmed Cases"
      ]
    },
    {
      "cell_type": "code",
      "metadata": {
        "id": "66Tk3C21sKF3"
      },
      "source": [
        "bd_cases=bd_total_cases"
      ],
      "execution_count": null,
      "outputs": []
    },
    {
      "cell_type": "code",
      "metadata": {
        "id": "tiKXLd1Dxwqw",
        "outputId": "e60ae1b6-9eab-4c9c-c1e1-812feefba940",
        "colab": {
          "base_uri": "https://localhost:8080/",
          "height": 34
        }
      },
      "source": [
        "bd_con_arima_pred[0]"
      ],
      "execution_count": null,
      "outputs": [
        {
          "output_type": "execute_result",
          "data": {
            "text/plain": [
              "210181.41381346338"
            ]
          },
          "metadata": {
            "tags": []
          },
          "execution_count": 348
        }
      ]
    },
    {
      "cell_type": "code",
      "metadata": {
        "id": "ufIv7rMnA3c0",
        "outputId": "23087224-59d3-4edd-c7f0-68a67a1a955d",
        "colab": {
          "base_uri": "https://localhost:8080/",
          "height": 303
        }
      },
      "source": [
        "fig=plt.figure(figsize=(16,8))\n",
        "plt.plot(bd_cases,color='black',linestyle='dotted',lw=3.5)\n",
        "plt.plot(range(135,165),bd_svm_pred[135:165],color='red',linestyle='dotted')\n",
        "plt.plot(range(135,165),bd_Nu_svm_pred[135:165],color='maroon',linestyle='dotted')\n",
        "plt.plot(range(135,165),bangladesh_linear_pred[135:165],color='green',linestyle='dotted')\n",
        "plt.plot(range(135,165),bd_con_arima_pred,color='blue',linestyle='dotted')\n",
        "plt.ylabel('Number of Confirmed Cases')\n",
        "plt.xlabel('Number of days')\n",
        "plt.legend(['Actual Confirmed Case','SVR Predicted Case','NuSVR predicted Case','Polynomial predicted Case','ARIMA Predicted Case'])\n",
        "fig.savefig('/content/drive/My Drive/Covid-test-graph/'+'Combine_conf.png')"
      ],
      "execution_count": null,
      "outputs": [
        {
          "output_type": "display_data",
          "data": {
            "image/png": "[encoded data removed]",
            "text/plain": [
              "<Figure size 1152x576 with 1 Axes>"
            ]
          },
          "metadata": {
            "tags": [],
            "needs_background": "light"
          }
        }
      ]
    },
    {
      "cell_type": "code",
      "metadata": {
        "id": "g3rLEOUu7W1n",
        "outputId": "e49cd477-d6d8-4c73-fa51-74ba00a217dd",
        "colab": {
          "base_uri": "https://localhost:8080/",
          "height": 387
        }
      },
      "source": [
        "fig1=plt.figure(figsize=(8,6))\n",
        "plt.plot(bd_cases,color='black',linestyle='dotted',lw=3.5)\n",
        "plt.plot(bd_svm_pred,color='red',linestyle='dotted')\n",
        "plt.ylabel('Number of Confirmed Cases')\n",
        "plt.xlabel('Number of days')\n",
        "plt.legend(['Actual Confirmed Case','SVR Predicted Case'])\n",
        "fig1.savefig('SVR.png')"
      ],
      "execution_count": null,
      "outputs": [
        {
          "output_type": "display_data",
          "data": {
            "image/png": "[encoded data removed]",
            "text/plain": [
              "<Figure size 576x432 with 1 Axes>"
            ]
          },
          "metadata": {
            "tags": [],
            "needs_background": "light"
          }
        }
      ]
    },
    {
      "cell_type": "code",
      "metadata": {
        "id": "YXRiNjuE7zf0",
        "outputId": "80841029-7d93-48d9-d88f-7d965a84a3bf",
        "colab": {
          "base_uri": "https://localhost:8080/",
          "height": 387
        }
      },
      "source": [
        "fig1=plt.figure(figsize=(8,6))\n",
        "plt.plot(bd_cases,color='black',linestyle='dotted',lw=3.5)\n",
        "plt.plot(bd_Nu_svm_pred,color='maroon',linestyle='dotted')\n",
        "plt.ylabel('Number of Confirmed Cases')\n",
        "plt.xlabel('Number of days')\n",
        "plt.legend(['Actual Confirmed Case','NuSVR Predicted Case'])\n",
        "fig1.savefig('NuSVR.png')"
      ],
      "execution_count": null,
      "outputs": [
        {
          "output_type": "display_data",
          "data": {
            "image/png": "[encoded data removed]",
            "text/plain": [
              "<Figure size 576x432 with 1 Axes>"
            ]
          },
          "metadata": {
            "tags": [],
            "needs_background": "light"
          }
        }
      ]
    },
    {
      "cell_type": "code",
      "metadata": {
        "id": "toW5_ZH58fYV",
        "outputId": "7dbdf636-a93f-444d-84d1-ba7a244792fc",
        "colab": {
          "base_uri": "https://localhost:8080/",
          "height": 387
        }
      },
      "source": [
        "fig1=plt.figure(figsize=(8,6))\n",
        "plt.plot(bd_cases,color='black',linestyle='dotted',lw=3.5)\n",
        "plt.plot(linear_pred,color='green',linestyle='dotted')\n",
        "plt.ylabel('Number of Confirmed Cases')\n",
        "plt.xlabel('Number of days')\n",
        "plt.legend(['Actual Confirmed Case','Polynomial Linear Regression Predicted Case'])\n",
        "fig1.savefig('Poly.png')"
      ],
      "execution_count": null,
      "outputs": [
        {
          "output_type": "display_data",
          "data": {
            "image/png": "[encoded data removed]",
            "text/plain": [
              "<Figure size 576x432 with 1 Axes>"
            ]
          },
          "metadata": {
            "tags": [],
            "needs_background": "light"
          }
        }
      ]
    },
    {
      "cell_type": "code",
      "metadata": {
        "id": "6B_E740e896m",
        "outputId": "26b02950-97ca-4539-cd03-f3fb166fb8d3",
        "colab": {
          "base_uri": "https://localhost:8080/",
          "height": 405
        }
      },
      "source": [
        "plt.figure(figsize=(8,6))\n",
        "plt.plot(bd_cases,color='black',linestyle='dotted',lw=3.5)\n",
        "plt.plot(linear_pred,color='violet',linestyle='dotted')\n",
        "plt.ylabel('Number of Confirmed Cases')\n",
        "plt.xlabel('Number of days')\n",
        "plt.legend(['Actual Confirmed Case','Polynomial Linear Regression Predicted Case'])"
      ],
      "execution_count": null,
      "outputs": [
        {
          "output_type": "execute_result",
          "data": {
            "text/plain": [
              "<matplotlib.legend.Legend at 0x7fd3b72ebd30>"
            ]
          },
          "metadata": {
            "tags": []
          },
          "execution_count": 353
        },
        {
          "output_type": "display_data",
          "data": {
            "image/png": "[encoded data removed]",
            "text/plain": [
              "<Figure size 576x432 with 1 Axes>"
            ]
          },
          "metadata": {
            "tags": [],
            "needs_background": "light"
          }
        }
      ]
    },
    {
      "cell_type": "markdown",
      "metadata": {
        "id": "upT5wpxTGAe4"
      },
      "source": [
        ""
      ]
    },
    {
      "cell_type": "markdown",
      "metadata": {
        "id": "U8W-UvsBGVqS"
      },
      "source": [
        "#Death Case Analysis\n"
      ]
    },
    {
      "cell_type": "code",
      "metadata": {
        "id": "ypIb0fAhc8wO"
      },
      "source": [
        "total_deaths=bd_total_deaths[:135]"
      ],
      "execution_count": null,
      "outputs": []
    },
    {
      "cell_type": "code",
      "metadata": {
        "id": "Mqc0889oebOm",
        "outputId": "58b2e8f7-d8fc-4c2d-b198-3a63d914d188",
        "colab": {
          "base_uri": "https://localhost:8080/",
          "height": 34
        }
      },
      "source": [
        "total_deaths[134]"
      ],
      "execution_count": null,
      "outputs": [
        {
          "output_type": "execute_result",
          "data": {
            "text/plain": [
              "2668"
            ]
          },
          "metadata": {
            "tags": []
          },
          "execution_count": 355
        }
      ]
    },
    {
      "cell_type": "code",
      "metadata": {
        "id": "p77iraEYGijo",
        "outputId": "0ea8fdef-03a0-4677-cd33-c257eef492f1",
        "colab": {
          "base_uri": "https://localhost:8080/",
          "height": 34
        }
      },
      "source": [
        "# split dataset for train\n",
        "X_train_death, X_test_death, y_train_death, y_test_death = train_test_split(days_since_3_8[:135], total_deaths, test_size=0.25, shuffle=False)\n",
        "print(\"[Bangladesh: Death cases] Xtrain:{} Ytrain{}\".format(len(X_train_death), len(y_train_death))) "
      ],
      "execution_count": null,
      "outputs": [
        {
          "output_type": "stream",
          "text": [
            "[Bangladesh: Death cases] Xtrain:101 Ytrain101\n"
          ],
          "name": "stdout"
        }
      ]
    },
    {
      "cell_type": "markdown",
      "metadata": {
        "id": "S8M0_CnCIU0Y"
      },
      "source": [
        "##SVM\n"
      ]
    },
    {
      "cell_type": "code",
      "metadata": {
        "id": "pr4cwFsTHu4s",
        "outputId": "07b5d641-52d4-4a29-e7cd-fc4b88519fcc",
        "colab": {
          "base_uri": "https://localhost:8080/",
          "height": 434
        }
      },
      "source": [
        "bd_death_svm_test ,w2_svr,bd_death_svm_pred  = svm_fun(days_since_3_8[:135], total_deaths,X_train_death, y_train_death, X_test_death, y_test_death, future_forcast, plt,'death')\n",
        "print(len(bd_death_svm_pred))\n",
        "print(w2_svr)"
      ],
      "execution_count": null,
      "outputs": [
        {
          "output_type": "stream",
          "text": [
            "MAE: 178.18622122822597\n",
            "MSE: 34435.54106986916\n",
            "RMSE: 185.56815747824075\n",
            "RMSE Main: 120.70806247078542\n",
            "W: 2.2877221182648593\n",
            "165\n",
            "2.2877221182648593\n"
          ],
          "name": "stdout"
        },
        {
          "output_type": "display_data",
          "data": {
            "image/png": "[encoded data removed]",
            "text/plain": [
              "<Figure size 720x360 with 1 Axes>"
            ]
          },
          "metadata": {
            "tags": [],
            "needs_background": "light"
          }
        }
      ]
    },
    {
      "cell_type": "markdown",
      "metadata": {
        "id": "cUASFeqBMl54"
      },
      "source": [
        "##NuSVR"
      ]
    },
    {
      "cell_type": "code",
      "metadata": {
        "id": "TZTMOSW3Mp8O",
        "outputId": "9f6e4537-0381-4746-8de3-0abf17dddc0d",
        "colab": {
          "base_uri": "https://localhost:8080/",
          "height": 402
        }
      },
      "source": [
        "bd_death_Nu_svm_test ,w2_nusvr,bd_death_Nu_svm_pred  = Nu_svr(days_since_3_8[:135], total_deaths,X_train_death, y_train_death, X_test_death, y_test_death, future_forcast, plt,'death')\n",
        "print(len(bd_death_Nu_svm_pred))\n",
        "print(w2_nusvr)"
      ],
      "execution_count": null,
      "outputs": [
        {
          "output_type": "stream",
          "text": [
            "MAE: 92.63445408310255\n",
            "MSE: 17049.678197116515\n",
            "RMSE: 130.57441631926415\n",
            "165\n",
            "0.5789977373656076\n"
          ],
          "name": "stdout"
        },
        {
          "output_type": "display_data",
          "data": {
            "image/png": "[encoded data removed]",
            "text/plain": [
              "<Figure size 720x360 with 1 Axes>"
            ]
          },
          "metadata": {
            "tags": [],
            "needs_background": "light"
          }
        }
      ]
    },
    {
      "cell_type": "markdown",
      "metadata": {
        "id": "eNMTffAwIcBw"
      },
      "source": [
        "##Polynomial Linear Regression\n"
      ]
    },
    {
      "cell_type": "code",
      "metadata": {
        "id": "JN81BvURIhru",
        "outputId": "b6080a72-53fc-44bb-c439-ac8c63ab34b7",
        "colab": {
          "base_uri": "https://localhost:8080/",
          "height": 402
        }
      },
      "source": [
        "bangladesh_death_linear_test, w2_poly,bangladesh_death_linear_pred = polynomial_fun(days_since_3_8[:135], total_deaths,X_train_death, y_train_death, X_test_death, y_test_death, future_forcast, plt,'death')\n",
        "print(len(bangladesh_death_linear_pred))\n",
        "print(w2_poly)"
      ],
      "execution_count": null,
      "outputs": [
        {
          "output_type": "stream",
          "text": [
            "MAE: 246.99578849376613\n",
            "MSE: 63472.9251668578\n",
            "RMSE: 251.93833604050377\n",
            "165\n",
            "2.6928566042709976\n"
          ],
          "name": "stdout"
        },
        {
          "output_type": "display_data",
          "data": {
            "image/png": "[encoded data removed]",
            "text/plain": [
              "<Figure size 720x360 with 1 Axes>"
            ]
          },
          "metadata": {
            "tags": [],
            "needs_background": "light"
          }
        }
      ]
    },
    {
      "cell_type": "markdown",
      "metadata": {
        "id": "LseEVgKi2SPt"
      },
      "source": [
        "##ARIMA\n",
        "\n"
      ]
    },
    {
      "cell_type": "code",
      "metadata": {
        "id": "8Lp7Xc-wjjoS",
        "outputId": "e3bc56e2-937c-4ff7-d43f-b39336a974f1",
        "colab": {
          "base_uri": "https://localhost:8080/",
          "height": 283
        }
      },
      "source": [
        "# evaluate parameters\n",
        "p_values = [0, 1, 2, 3]\n",
        "d_values = [0, 1, 2]\n",
        "q_values = [0, 1, 2, 3]\n",
        "warnings.filterwarnings(\"ignore\")\n",
        "order=evaluate_models(y_train_death,y_test_death ,p_values, d_values, q_values)"
      ],
      "execution_count": null,
      "outputs": [
        {
          "output_type": "stream",
          "text": [
            "ARIMA(0, 0, 1) MSE=599036.605\n",
            "ARIMA(0, 1, 1) MSE=288.633\n",
            "ARIMA(0, 1, 2) MSE=219.393\n",
            "ARIMA(0, 2, 1) MSE=69.170\n",
            "ARIMA(1, 0, 0) MSE=1766.910\n",
            "ARIMA(1, 1, 0) MSE=105.289\n",
            "ARIMA(1, 2, 0) MSE=86.014\n",
            "ARIMA(1, 2, 1) MSE=70.505\n",
            "ARIMA(2, 1, 0) MSE=84.548\n",
            "ARIMA(2, 2, 0) MSE=83.332\n",
            "ARIMA(2, 2, 1) MSE=75.400\n",
            "ARIMA(3, 1, 0) MSE=79.819\n",
            "ARIMA(3, 2, 0) MSE=84.026\n",
            "ARIMA(3, 2, 1) MSE=79.679\n",
            "Best ARIMA(0, 2, 1) MSE=69.170\n"
          ],
          "name": "stdout"
        }
      ]
    },
    {
      "cell_type": "code",
      "metadata": {
        "id": "cgkOfCPG2Rw3",
        "outputId": "a35760f4-3290-4148-a2a6-44bdc7914843",
        "colab": {
          "base_uri": "https://localhost:8080/",
          "height": 626
        }
      },
      "source": [
        "bd_death_arima_test,w2_arima,bd_death_arima_pred = ARIMA_fun(days_since_3_8[:135], total_deaths,X_train_death, y_train_death, X_test_death, y_test_death,order, future_forcast, plt,'death')\n",
        "print(w2_arima)"
      ],
      "execution_count": null,
      "outputs": [
        {
          "output_type": "stream",
          "text": [
            "[1305, 1343, 1388, 1425, 1464, 1502, 1545, 1582, 1621, 1661, 1695, 1738, 1783, 1847, 1888, 1926, 1968, 1997, 2052, 2096, 2151, 2197, 2238, 2275, 2305, 2352, 2391, 2424, 2457, 2496, 2547, 2581, 2618, 2668]\n",
            "Test MSE: %.3f 69.16992680578132\n",
            "Test RMSE: %.3f 8.316845965014702\n"
          ],
          "name": "stdout"
        },
        {
          "output_type": "error",
          "ename": "NameError",
          "evalue": "ignored",
          "traceback": [
            "\u001b[0;31m---------------------------------------------------------------------------\u001b[0m",
            "\u001b[0;31mNameError\u001b[0m                                 Traceback (most recent call last)",
            "\u001b[0;32m<ipython-input-361-8f14848e837c>\u001b[0m in \u001b[0;36m<module>\u001b[0;34m()\u001b[0m\n\u001b[1;32m      2\u001b[0m \u001b[0mprint\u001b[0m\u001b[0;34m(\u001b[0m\u001b[0my_test_death\u001b[0m\u001b[0;34m)\u001b[0m\u001b[0;34m\u001b[0m\u001b[0;34m\u001b[0m\u001b[0m\n\u001b[1;32m      3\u001b[0m \u001b[0mbd_death_arima_test\u001b[0m\u001b[0;34m,\u001b[0m\u001b[0mw2_arima\u001b[0m\u001b[0;34m,\u001b[0m\u001b[0mbd_death_arima_pred\u001b[0m \u001b[0;34m=\u001b[0m \u001b[0mARIMA_fun\u001b[0m\u001b[0;34m(\u001b[0m\u001b[0mdays_since_3_8\u001b[0m\u001b[0;34m[\u001b[0m\u001b[0;34m:\u001b[0m\u001b[0;36m135\u001b[0m\u001b[0;34m]\u001b[0m\u001b[0;34m,\u001b[0m \u001b[0mtotal_deaths\u001b[0m\u001b[0;34m,\u001b[0m\u001b[0mX_train_death\u001b[0m\u001b[0;34m,\u001b[0m \u001b[0my_train_death\u001b[0m\u001b[0;34m,\u001b[0m \u001b[0mX_test_death\u001b[0m\u001b[0;34m,\u001b[0m \u001b[0my_test_death\u001b[0m\u001b[0;34m,\u001b[0m\u001b[0morder\u001b[0m\u001b[0;34m,\u001b[0m \u001b[0mfuture_forcast\u001b[0m\u001b[0;34m,\u001b[0m \u001b[0mplt\u001b[0m\u001b[0;34m,\u001b[0m\u001b[0;34m'death'\u001b[0m\u001b[0;34m)\u001b[0m\u001b[0;34m\u001b[0m\u001b[0;34m\u001b[0m\u001b[0m\n\u001b[0;32m----> 4\u001b[0;31m \u001b[0mprint\u001b[0m\u001b[0;34m(\u001b[0m\u001b[0mlen\u001b[0m\u001b[0;34m(\u001b[0m\u001b[0mbd_arima_pred\u001b[0m\u001b[0;34m)\u001b[0m\u001b[0;34m)\u001b[0m\u001b[0;34m\u001b[0m\u001b[0;34m\u001b[0m\u001b[0m\n\u001b[0m\u001b[1;32m      5\u001b[0m \u001b[0mprint\u001b[0m\u001b[0;34m(\u001b[0m\u001b[0mw2_arima\u001b[0m\u001b[0;34m)\u001b[0m\u001b[0;34m\u001b[0m\u001b[0;34m\u001b[0m\u001b[0m\n",
            "\u001b[0;31mNameError\u001b[0m: name 'bd_arima_pred' is not defined"
          ]
        },
        {
          "output_type": "display_data",
          "data": {
            "image/png": "[encoded data removed]",
            "text/plain": [
              "<Figure size 720x360 with 1 Axes>"
            ]
          },
          "metadata": {
            "tags": [],
            "needs_background": "light"
          }
        }
      ]
    },
    {
      "cell_type": "code",
      "metadata": {
        "id": "Rz1Zt1iFtBXw"
      },
      "source": [
        "# weight_svm = w2_svr/(w2_nusvr+w2_poly+w2_svr+w2_arima)\n",
        "# weight_nusvr = w2_nusvr/(w2_nusvr+w2_poly+w2_svr+w2_arima)\n",
        "# weight_poly = w2_poly/(w2_nusvr+w2_poly+w2_svr+w2_arima)\n",
        "# weight_arima = 1-(weight_nusvr+weight_poly+weight_svm)\n",
        "# print(weight_svm)\n",
        "# print(weight_nusvr)\n",
        "# print(weight_poly)\n",
        "# print(weight_arima)"
      ],
      "execution_count": null,
      "outputs": []
    },
    {
      "cell_type": "code",
      "metadata": {
        "id": "ye6C_OoatU6T"
      },
      "source": [
        "# ensemble_test_pred = []\n",
        "# for i in range(len(y_test_confirmed)):\n",
        "#   ensemble_test_pred.append((bd_arima_pred[i]*weight_arima)+(bd_svm_pred[i]*weight_svm)+(bd_Nu_svm_pred[i]*weight_nusvr)+(bangladesh_linear_pred[i]*weight_poly))\n",
        "# mse = mean_squared_error(ensemble_test_pred,y_test_confirmed)\n",
        "# RMSE = math.sqrt(mse)\n",
        "# print('Test MSE:', mse)\n",
        "# print('Test RMSE:',RMSE)\n",
        "  "
      ],
      "execution_count": null,
      "outputs": []
    },
    {
      "cell_type": "code",
      "metadata": {
        "id": "vhDMiJZEtcBb"
      },
      "source": [
        "  # fig=plt.figure(figsize=(10,5))\n",
        "  # plt.plot(y_test_confirmed,linestyle='dotted',lw=3)\n",
        "  # plt.plot(ensemble_test_pred,linestyle='dotted',lw=3)\n",
        "  # plt.ylabel('Number of confirmed Cases')\n",
        "  # plt.xlabel('Number of days')\n",
        "  # plt.legend([\" Test Data \",\" Ensemble model prediction\"])\n",
        "  # #fig.savefig('/content/drive/My Drive/Covid-test-graph/'+\"ARIMATEST_\"+case+'.png')\n",
        "  # #fig.savefig('ensemble_death.png')"
      ],
      "execution_count": null,
      "outputs": []
    },
    {
      "cell_type": "markdown",
      "metadata": {
        "id": "98sQRKJWP5qE"
      },
      "source": [
        "#Future Forecasting for Death Cases"
      ]
    },
    {
      "cell_type": "markdown",
      "metadata": {
        "id": "bLvTjf4RQTtR"
      },
      "source": [
        "##Future prediction using SVM"
      ]
    },
    {
      "cell_type": "code",
      "metadata": {
        "id": "tZUCIAZTQSw_"
      },
      "source": [
        "# Future Forecasting using SVM\n",
        "bangladesh_death_svm_df = pd.DataFrame({'Date': f_forcast_dates[-30:], 'SVM Predicted # of Death Cases Bangladesh': np.round(bd_death_svm_pred [-30:])})\n",
        "bangladesh_death_svm_df.iloc[-5:]"
      ],
      "execution_count": null,
      "outputs": []
    },
    {
      "cell_type": "markdown",
      "metadata": {
        "id": "OvCMVJRAQ-lM"
      },
      "source": [
        "## Future Forecasting using Polynomial Lin. Regression"
      ]
    },
    {
      "cell_type": "code",
      "metadata": {
        "id": "Ed8JqDvSRHC5"
      },
      "source": [
        "#bangladesh_linear_pred\n",
        "# Future predictions using polynomial regression\n",
        "death_linear_pred = bangladesh_death_linear_pred .reshape(1,-1)[0]\n",
        "bangladesh_death_poly_df = pd.DataFrame({'Date': f_forcast_dates[-30:], 'Polynomial Predicted # of Death Cases Bangladesh': np.round(death_linear_pred[-30:])})\n",
        "bangladesh_death_poly_df.iloc[-5:]"
      ],
      "execution_count": null,
      "outputs": []
    },
    {
      "cell_type": "markdown",
      "metadata": {
        "id": "Vi3hamADSaa5"
      },
      "source": [
        "##Future Forecasting using NuSVR"
      ]
    },
    {
      "cell_type": "code",
      "metadata": {
        "id": "pNNY2iJESgwe"
      },
      "source": [
        "#NuSVR\n",
        "bangladesh_death_Nu_svr_df = pd.DataFrame({'Date': f_forcast_dates[-30:], 'NuSVM Predicted # of Death Cases Bangladesh': np.round(bd_death_Nu_svm_pred[-30:])})\n",
        "bangladesh_death_Nu_svr_df.iloc[-5:]"
      ],
      "execution_count": null,
      "outputs": []
    },
    {
      "cell_type": "markdown",
      "metadata": {
        "id": "-B8TsN6SSv6I"
      },
      "source": [
        "#Plotting Models for Death Cases"
      ]
    },
    {
      "cell_type": "code",
      "metadata": {
        "id": "IVpmcDDVTDxl"
      },
      "source": [
        "fig=plt.figure(figsize=(8,6))\n",
        "plt.plot(total_deaths,color='black',linestyle='dotted',lw=3.5)\n",
        "plt.plot(bd_death_svm_pred,color='red',linestyle='dotted')\n",
        "plt.plot(bd_death_Nu_svm_pred,color='maroon',linestyle='dotted')\n",
        "#plt.plot(death_log_pred,color='blue',linestyle='dotted')\n",
        "plt.plot(death_linear_pred,color='green',linestyle='dotted')\n",
        "#plt.plot(death_bayes_pred,color='green',linestyle='dotted')\n",
        "print(len(bd_death_arima_pred,color='blue',linestyle='dotted')\n",
        "plt.ylabel('Number of Death Cases')\n",
        "plt.xlabel('Number of days')\n",
        "plt.legend(['Actual Death Case','SVM Predicted case','NuSVR predicted Case','Polynomial predicted case','ARIMA Predicted Case'])\n",
        "fig.savefig('death_fig.png')"
      ],
      "execution_count": null,
      "outputs": []
    },
    {
      "cell_type": "code",
      "metadata": {
        "id": "tyv7qOnNEcQN"
      },
      "source": [
        "fig1=plt.figure(figsize=(8,6))\n",
        "plt.plot(total_deaths,color='black',linestyle='dotted',lw=3.5)\n",
        "plt.plot(bd_death_svm_pred,color='red',linestyle='dotted')\n",
        "plt.ylabel('Number of Death Cases')\n",
        "plt.xlabel('Number of days')\n",
        "plt.legend(['Actual Death Case','SVR Predicted Case'])\n",
        "fig1.savefig('SVR_death.png')"
      ],
      "execution_count": null,
      "outputs": []
    },
    {
      "cell_type": "code",
      "metadata": {
        "id": "6PJZg01TEoAm"
      },
      "source": [
        "fig1=plt.figure(figsize=(8,6))\n",
        "plt.plot(total_deaths,color='black',linestyle='dotted',lw=3.5)\n",
        "plt.plot(bd_death_Nu_svm_pred,color='maroon',linestyle='dotted')\n",
        "plt.ylabel('Number of Death Cases')\n",
        "plt.xlabel('Number of days')\n",
        "plt.legend(['Actual Death Case','NuSVR Predicted Case'])\n",
        "fig1.savefig('NuSVR_death.png')"
      ],
      "execution_count": null,
      "outputs": []
    },
    {
      "cell_type": "code",
      "metadata": {
        "id": "GzKmusn_EwuX"
      },
      "source": [
        "fig1=plt.figure(figsize=(8,6))\n",
        "plt.plot(total_deaths,color='black',linestyle='dotted',lw=3.5)\n",
        "plt.plot(death_linear_pred,color='green',linestyle='dotted')\n",
        "plt.ylabel('Number of death Cases')\n",
        "plt.xlabel('Number of days')\n",
        "plt.legend(['Actual Death Case','Polynomial Linear Regression Predicted Case'])\n",
        "fig1.savefig('Poly_death.png')"
      ],
      "execution_count": null,
      "outputs": []
    },
    {
      "cell_type": "markdown",
      "metadata": {
        "id": "_1bXddYhfYOj"
      },
      "source": [
        "#Recovery Case Analysis"
      ]
    },
    {
      "cell_type": "code",
      "metadata": {
        "id": "C2YU73oskpkQ",
        "outputId": "4d06f9f4-e5f5-4f42-a44d-5efcbec3a6fa",
        "colab": {
          "base_uri": "https://localhost:8080/",
          "height": 34
        }
      },
      "source": [
        "# split dataset and call svm\n",
        "total_recoveries = bd_total_recovered[:135]\n",
        "X_train_recovered, X_test_recovered, y_train_recovered, y_test_recovered = train_test_split(days_since_3_8[:135], total_recoveries, test_size=0.25, shuffle=False)\n",
        "print(\"[Bangladesh: Confirmed cases] Xtrain:{} Ytrain{}\".format(len(X_train_recovered), len(y_train_recovered))) "
      ],
      "execution_count": null,
      "outputs": [
        {
          "output_type": "stream",
          "text": [
            "[Bangladesh: Confirmed cases] Xtrain:101 Ytrain101\n"
          ],
          "name": "stdout"
        }
      ]
    },
    {
      "cell_type": "markdown",
      "metadata": {
        "id": "4DUZ2ohsfifX"
      },
      "source": [
        "##SVM"
      ]
    },
    {
      "cell_type": "code",
      "metadata": {
        "id": "y7X71IwnUBfU",
        "outputId": "447383d4-3c73-4bb9-c74f-1a0ad7ff2e44",
        "colab": {
          "base_uri": "https://localhost:8080/",
          "height": 412
        }
      },
      "source": [
        "bd_recovered_svm_test, w3_svm,bd_recovered_svm_pred = svm_fun(days_since_3_8[:135], total_recoveries,X_train_recovered, y_train_recovered, X_test_recovered, y_test_recovered, future_forcast, plt,'rec')\n",
        "print(len(bd_recovered_svm_pred))"
      ],
      "execution_count": null,
      "outputs": [
        {
          "output_type": "stream",
          "text": [
            "MAE: 43316.647395880274\n",
            "MSE: 2148099509.906489\n",
            "RMSE: 46347.59443494871\n",
            "RMSE Main: 7564.578969524871\n",
            "W: 1.3784924470826192\n",
            "165\n"
          ],
          "name": "stdout"
        },
        {
          "output_type": "display_data",
          "data": {
            "image/png": "[encoded data removed]",
            "text/plain": [
              "<Figure size 720x360 with 1 Axes>"
            ]
          },
          "metadata": {
            "tags": [],
            "needs_background": "light"
          }
        }
      ]
    },
    {
      "cell_type": "markdown",
      "metadata": {
        "id": "EiUBvD33lutp"
      },
      "source": [
        "##NuSVR"
      ]
    },
    {
      "cell_type": "code",
      "metadata": {
        "id": "J0fZ9SqpltVJ"
      },
      "source": [
        "bd_recovered_Nu_svm_test,w3_nusvr,bd_recovered_Nu_svm_pred = Nu_svr(days_since_3_8[:135], total_recoveries,X_train_recovered, y_train_recovered, X_test_recovered, y_test_recovered, future_forcast, plt,'rec')\n",
        "print(len(bd_recovered_Nu_svm_pred ))\n",
        "print(w3_nusvr)"
      ],
      "execution_count": null,
      "outputs": []
    },
    {
      "cell_type": "markdown",
      "metadata": {
        "id": "pcUAc959mruf"
      },
      "source": [
        "##Polynomial Linear Regression"
      ]
    },
    {
      "cell_type": "code",
      "metadata": {
        "id": "zuw6Gyummm_p"
      },
      "source": [
        "bangladesh_recovered_linear_test ,w3_poly,bangladesh_recovered_linear_pred  = polynomial_fun(days_since_3_8[:135], total_recoveries,X_train_recovered, y_train_recovered, X_test_recovered, y_test_recovered, future_forcast, plt,'rec')\n",
        "print(len(bangladesh_recovered_linear_pred ))\n",
        "print(w3_poly)"
      ],
      "execution_count": null,
      "outputs": []
    },
    {
      "cell_type": "markdown",
      "metadata": {
        "id": "fYefM8Is6HA_"
      },
      "source": [
        "##ARIMA"
      ]
    },
    {
      "cell_type": "code",
      "metadata": {
        "id": "W_aEYH6ikNor"
      },
      "source": [
        "# evaluate parameters\n",
        "p_values = [0, 1, 2, 3]\n",
        "d_values = [0, 1, 2]\n",
        "q_values = [0, 1, 2, 3]\n",
        "warnings.filterwarnings(\"ignore\")\n",
        "order=evaluate_models(y_train_recovered,y_test_recovered ,p_values, d_values, q_values)"
      ],
      "execution_count": null,
      "outputs": []
    },
    {
      "cell_type": "code",
      "metadata": {
        "id": "lvdSnkPR6GqF"
      },
      "source": [
        "bd_rec_arima_pred,w3_arima,bd_rec_arima_pred = ARIMA_fun(days_since_3_8[:135], total_recoveriesX_train_recovered, y_train_recovered, X_test_recovered, y_test_recovered,order, future_forcast, plt,'rec')"
      ],
      "execution_count": null,
      "outputs": []
    },
    {
      "cell_type": "markdown",
      "metadata": {
        "id": "BhuIuPnQn_e3"
      },
      "source": [
        "#Future Forecasting for Reovery Cases "
      ]
    },
    {
      "cell_type": "markdown",
      "metadata": {
        "id": "F44mAvgQoJOO"
      },
      "source": [
        "##Future prediction using SVM"
      ]
    },
    {
      "cell_type": "code",
      "metadata": {
        "id": "Ht6RfVX8n--1"
      },
      "source": [
        "# Future Forecasting using SVM\n",
        "bangladesh_recovered_svm_df = pd.DataFrame({'Date': f_forcast_dates[-30:], 'SVM Predicted # of Recovery Cases Bangladesh': np.round(bd_recovered_svm_pred [-30:])})\n",
        "bangladesh_recovered_svm_df.iloc[-5:]"
      ],
      "execution_count": null,
      "outputs": []
    },
    {
      "cell_type": "markdown",
      "metadata": {
        "id": "_udYyj6AoOQq"
      },
      "source": [
        "## Future Forecasting using Polynomial Lin. Regression"
      ]
    },
    {
      "cell_type": "code",
      "metadata": {
        "id": "1orqtDiHoUOj"
      },
      "source": [
        "#bangladesh_linear_pred\n",
        "# Future predictions using polynomial regression\n",
        "recovered_linear_pred = bangladesh_recovered_linear_pred .reshape(1,-1)[0]\n",
        "bangladesh_recovered_poly_df = pd.DataFrame({'Date': f_forcast_dates[-30:], 'Polynomial Predicted # of Recovery Cases Bangladesh': np.round(recovered_linear_pred[-30:])})\n",
        "bangladesh_recovered_poly_df.iloc[-5:]"
      ],
      "execution_count": null,
      "outputs": []
    },
    {
      "cell_type": "markdown",
      "metadata": {
        "id": "purZkTFCogTS"
      },
      "source": [
        "##Future Forecasting using NuSVR"
      ]
    },
    {
      "cell_type": "code",
      "metadata": {
        "id": "AVrETGBNqU05"
      },
      "source": [
        ""
      ],
      "execution_count": null,
      "outputs": []
    },
    {
      "cell_type": "code",
      "metadata": {
        "id": "6t_iFXhFqVaM"
      },
      "source": [
        "#NuSVR\n",
        "bangladesh_recovered_Nu_svr_df = pd.DataFrame({'Date': f_forcast_dates[-30:], 'NuSVM Predicted # of Recovery Cases Bangladesh': np.round(bd_recovered_Nu_svm_pred[-30:])})\n",
        "bangladesh_recovered_Nu_svr_df.iloc[-5:]"
      ],
      "execution_count": null,
      "outputs": []
    },
    {
      "cell_type": "markdown",
      "metadata": {
        "id": "3K_hJirFqmHH"
      },
      "source": [
        "#Plotting Models for Recovery Cases"
      ]
    },
    {
      "cell_type": "code",
      "metadata": {
        "id": "eekB_f4ov3nV"
      },
      "source": [
        "total_recovered=total_recoveries"
      ],
      "execution_count": null,
      "outputs": []
    },
    {
      "cell_type": "code",
      "metadata": {
        "id": "H0eiyA3TqsmZ"
      },
      "source": [
        "fig=plt.figure(figsize=(8,6))\n",
        "plt.plot(total_recovered,color='black',linestyle='dotted',lw=3.5)\n",
        "plt.plot(bd_recovered_svm_pred,color='red',linestyle='dotted')\n",
        "plt.plot(bd_recovered_Nu_svm_pred,color='maroon',linestyle='dotted')\n",
        "#plt.plot(bd_rec_arima_pred,color='blue',linestyle='dotted')\n",
        "plt.plot(recovered_linear_pred,color='green',linestyle='dotted')\n",
        "plt.plot(bd_rec_arima_pred,color='blue',linestyle='dotted')otted')\n",
        "plt.ylabel('Number of Recovery Cases')\n",
        "plt.xlabel('Number of days')\n",
        "plt.legend(['Actual Death Case','SVR Predicted case','NuSVR predicted Case','Polynomial Predicted Case','ARIMA PRedicted Case'])\n",
        "fig.savefig('rec.png')"
      ],
      "execution_count": null,
      "outputs": []
    },
    {
      "cell_type": "code",
      "metadata": {
        "id": "6X5AVq-OIx-O"
      },
      "source": [
        "fig1=plt.figure(figsize=(8,6))\n",
        "plt.plot(total_recovered,color='black',linestyle='dotted',lw=3.5)\n",
        "plt.plot(bd_recovered_svm_pred,color='red',linestyle='dotted')\n",
        "plt.ylabel('Number of Recovered Cases')\n",
        "plt.xlabel('Number of days')\n",
        "plt.legend(['Actual Recovered Case','SVR Predicted Case'])\n",
        "fig1.savefig('SVR_rec.png')"
      ],
      "execution_count": null,
      "outputs": []
    },
    {
      "cell_type": "code",
      "metadata": {
        "id": "GQLRJH9QI_u1"
      },
      "source": [
        "fig1=plt.figure(figsize=(8,6))\n",
        "plt.plot(total_recovered,color='black',linestyle='dotted',lw=3.5)\n",
        "plt.plot(bd_recovered_Nu_svm_pred,color='maroon',linestyle='dotted')\n",
        "plt.ylabel('Number of Recovered Cases')\n",
        "plt.xlabel('Number of days')\n",
        "plt.legend(['Actual Death Case','NuSVR Predicted Case'])\n",
        "fig1.savefig('NuSVR_rec.png')"
      ],
      "execution_count": null,
      "outputs": []
    },
    {
      "cell_type": "code",
      "metadata": {
        "id": "EN4excs6JPMj"
      },
      "source": [
        "fig1=plt.figure(figsize=(8,6))\n",
        "plt.plot(total_recovered,color='black',linestyle='dotted',lw=3.5)\n",
        "plt.plot(recovered_linear_pred,color='green',linestyle='dotted')\n",
        "plt.ylabel('Number of Recovered Cases')\n",
        "plt.xlabel('Number of days')\n",
        "plt.legend(['Actual Recovered Case','Polynomial Linear Regression Predicted Case'])\n",
        "fig1.savefig('Poly_rec.png')"
      ],
      "execution_count": null,
      "outputs": []
    }
  ]
}